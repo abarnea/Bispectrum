{
 "cells": [
  {
   "cell_type": "code",
   "execution_count": 1,
   "metadata": {},
   "outputs": [],
   "source": [
    "%load_ext autoreload\n",
    "%autoreload 2"
   ]
  },
  {
   "cell_type": "code",
   "execution_count": 2,
   "metadata": {},
   "outputs": [],
   "source": [
    "import numpy as np\n",
    "import healpy as hp\n",
    "import scipy\n",
    "import matplotlib.pyplot as plt\n",
    "from numba import jit, njit, prange, set_num_threads\n",
    "from numba.typed import List, Dict\n",
    "from tqdm.notebook import tqdm\n",
    "\n",
    "import helper_funcs as hf\n",
    "import bispec_calculator as bispec"
   ]
  },
  {
   "attachments": {},
   "cell_type": "markdown",
   "metadata": {},
   "source": [
    "## Testing Bins"
   ]
  },
  {
   "cell_type": "code",
   "execution_count": 3,
   "metadata": {},
   "outputs": [],
   "source": [
    "lmax = 1024\n",
    "ells = np.arange(1, lmax+1)\n",
    "\n",
    "cls = (ells + 0.0)**(-3.)\n",
    "\n",
    "theory_map, alms = hp.sphtfunc.synfast(cls=cls, nside=1024, lmax=lmax, alm=True)\n",
    "\n",
    "sorted_alms = bispec.sort_alms(alms, lmax)"
   ]
  },
  {
   "cell_type": "code",
   "execution_count": 4,
   "metadata": {},
   "outputs": [],
   "source": [
    "def create_bins_and_maps(sorted_alms, lmin, lmax, nbins):\n",
    "    i1_bin, i2_bin, i3_bin = bispec.create_bins(lmin, lmax, nbins)\n",
    "    i1_map, i2_map, i3_map = bispec.get_three_filtered_maps(sorted_alms, i1_bin, i2_bin, i3_bin)\n",
    "\n",
    "    return i1_bin, i2_bin, i3_bin, i1_map, i2_map, i3_map"
   ]
  },
  {
   "cell_type": "code",
   "execution_count": 13,
   "metadata": {},
   "outputs": [],
   "source": [
    "lmin = 100\n",
    "lmax = 110\n",
    "nbins = 10\n",
    "\n",
    "i1_bin, i2_bin, i3_bin, i1_map, i2_map, i3_map = create_bins_and_maps(sorted_alms, lmin, lmax, nbins)"
   ]
  },
  {
   "cell_type": "code",
   "execution_count": 12,
   "metadata": {},
   "outputs": [
    {
     "name": "stdout",
     "output_type": "stream",
     "text": [
      "57.6 ms ± 667 µs per loop (mean ± std. dev. of 7 runs, 10 loops each)\n"
     ]
    }
   ],
   "source": [
    "## Map Method\n",
    "\n",
    "%timeit bispec.compute_binned_bispec(i1_bin, i2_bin, i3_bin, i1_map, i2_map, i3_map)"
   ]
  },
  {
   "cell_type": "code",
   "execution_count": 14,
   "metadata": {},
   "outputs": [
    {
     "name": "stdout",
     "output_type": "stream",
     "text": [
      "427 ms ± 16.6 ms per loop (mean ± std. dev. of 7 runs, 1 loop each)\n"
     ]
    }
   ],
   "source": [
    "## Filter Method\n",
    "\n",
    "%timeit bispec.compute_averaged_bispec(i1_bin, i2_bin, i3_bin, sorted_alms)"
   ]
  },
  {
   "attachments": {},
   "cell_type": "markdown",
   "metadata": {},
   "source": [
    "## Log:"
   ]
  },
  {
   "attachments": {},
   "cell_type": "markdown",
   "metadata": {},
   "source": [
    "Bin: [2, 10, 1]\n",
    "\n",
    "t_map = 56.1 ms ± 1.57 ms per loop (mean ± std. dev. of 7 runs, 10 loops each)\n",
    "\n",
    "t_filter = 9.07 ms ± 867 µs per loop (mean ± std. dev. of 7 runs, 1 loop each)"
   ]
  },
  {
   "attachments": {},
   "cell_type": "markdown",
   "metadata": {},
   "source": [
    "Bin: [2, 100, 1]\n",
    "\n",
    "t_map = 57.6 ms ± 787 µs per loop (mean ± std. dev. of 7 runs, 10 loops each)\n",
    "\n",
    "t_filter = DOESN'T FINISH (after 2min)"
   ]
  },
  {
   "attachments": {},
   "cell_type": "markdown",
   "metadata": {},
   "source": [
    "Bin: [20, 50, 5]\n",
    "\n",
    "t_map = 56.5 ms ± 1.15 ms per loop (mean ± std. dev. of 7 runs, 10 loops each)\n",
    "\n",
    "t_filter = 229 ms ± 10.7 ms per loop (mean ± std. dev. of 7 runs, 1 loop each)"
   ]
  },
  {
   "attachments": {},
   "cell_type": "markdown",
   "metadata": {},
   "source": [
    "Bin: [20, 50, 2]\n",
    "\n",
    "t_map = 57 ms ± 923 µs per loop (mean ± std. dev. of 7 runs, 1 loop each)\n",
    "\n",
    "t_filter = 4.09 s ± 32.5 ms per loop (mean ± std. dev. of 7 runs, 1 loop each)"
   ]
  },
  {
   "attachments": {},
   "cell_type": "markdown",
   "metadata": {},
   "source": [
    "Bin: [200, 500, 50]\n",
    "\n",
    "t_map = 63.2 ms ± 3.46 ms per loop (mean ± std. dev. of 7 runs, 10 loops each)\n",
    "\n",
    "t_filter = DOESN'T FINISH (after 3min)"
   ]
  },
  {
   "attachments": {},
   "cell_type": "markdown",
   "metadata": {},
   "source": [
    "Bin = [100, 1000, 10]\n",
    "\n",
    "t_map = 57.6 ms ± 667 µs per loop (mean ± std. dev. of 7 runs, 10 loops each)"
   ]
  },
  {
   "attachments": {},
   "cell_type": "markdown",
   "metadata": {},
   "source": [
    "Bin: [100, 1000, 1]\n",
    "\n",
    "t_map = 871 ms ± 13.2 ms per loop (mean ± std. dev. of 7 runs, 1 loop each)"
   ]
  },
  {
   "attachments": {},
   "cell_type": "markdown",
   "metadata": {},
   "source": [
    "## Run Over Maps"
   ]
  },
  {
   "cell_type": "code",
   "execution_count": 10,
   "metadata": {},
   "outputs": [],
   "source": [
    "def run_over_binned_maps(lmin_bin, lmax_bin, nbins, nmaps=10, ells=np.arange(1,1025,1), seed_start=160989):\n",
    "    cls = (ells + 0.0)**(-3.)\n",
    "    bls_maps = np.zeros(nmaps, dtype='float')\n",
    "    for i in tqdm(range(nmaps)):\n",
    "        np.random.seed(seed_start+i)\n",
    "        _, alms = hp.sphtfunc.synfast(cls=cls, nside=1024, lmax=ells.max(), alm=True)\n",
    "        sorted_alms = bispec.sort_alms(alms, lmax+1)\n",
    "        i1_bin, i2_bin, i3_bin, i1_map, i2_map, i3_map = create_bins_and_maps(sorted_alms, lmin_bin, lmax_bin, nbins)\n",
    "        bls_maps[i]  = bispec.compute_binned_bispec(i1_bin, i2_bin, i3_bin, i1_map, i2_map, i3_map)\n",
    "    return bls_maps"
   ]
  },
  {
   "cell_type": "code",
   "execution_count": 11,
   "metadata": {},
   "outputs": [],
   "source": [
    "def run_over_averaged_maps(lmin_bin, lmax_bin, nbins, nmaps=10, ells=np.arange(1,1025,1), seed_start=160989):\n",
    "    cls = (ells + 0.0)**(-3.)\n",
    "    bls = np.zeros(nmaps, dtype='float')\n",
    "    for i in tqdm(range(nmaps)):\n",
    "        np.random.seed(seed_start+i)\n",
    "        _, alms = hp.sphtfunc.synfast(cls=cls, nside=1024, lmax=ells.max(), alm=True)\n",
    "        sorted_alms = bispec.sort_alms(alms, lmax+1)\n",
    "        i1_bin, i2_bin, i3_bin = bispec.create_bins(lmin_bin, lmax_bin, nbins)\n",
    "        bls[i]  = bispec.compute_averaged_bispec(i1_bin, i2_bin, i3_bin, sorted_alms)\n",
    "    return bls"
   ]
  },
  {
   "cell_type": "code",
   "execution_count": 13,
   "metadata": {},
   "outputs": [
    {
     "data": {
      "application/vnd.jupyter.widget-view+json": {
       "model_id": "3467d334323b48fdb8ec3b4a43bd1d71",
       "version_major": 2,
       "version_minor": 0
      },
      "text/plain": [
       "  0%|          | 0/25 [00:00<?, ?it/s]"
      ]
     },
     "metadata": {},
     "output_type": "display_data"
    }
   ],
   "source": [
    "nmaps = 25\n",
    "lmin = 30\n",
    "lmax = 50\n",
    "nbins = 1\n",
    "\n",
    "ls = np.arange(lmin, lmax+1, nbins)\n",
    "\n",
    "# bls_maps = run_over_binned_maps(lmin, lmax, nbins, nmaps=nmaps)\n",
    "bls = run_over_averaged_maps(lmin, lmax, nbins, nmaps=nmaps)"
   ]
  },
  {
   "attachments": {},
   "cell_type": "markdown",
   "metadata": {},
   "source": [
    "in original implementation, not binned, so we had bispec value for each ell triplet. How to implement for bin?"
   ]
  },
  {
   "cell_type": "code",
   "execution_count": 16,
   "metadata": {},
   "outputs": [
    {
     "ename": "ValueError",
     "evalue": "x and y must have same first dimension, but have shapes (21,) and (1,)",
     "output_type": "error",
     "traceback": [
      "\u001b[0;31m---------------------------------------------------------------------------\u001b[0m",
      "\u001b[0;31mValueError\u001b[0m                                Traceback (most recent call last)",
      "\u001b[1;32m/data/a/cpac/abarnea/Bispectra/Bispectrum/bispec_method_testing.ipynb Cell 17\u001b[0m in \u001b[0;36m<cell line: 4>\u001b[0;34m()\u001b[0m\n\u001b[1;32m      <a href='vscode-notebook-cell://ssh-remote%2Broomba/data/a/cpac/abarnea/Bispectra/Bispectrum/bispec_method_testing.ipynb#X21sdnNjb2RlLXJlbW90ZQ%3D%3D?line=2'>3</a>\u001b[0m plt\u001b[39m.\u001b[39mfigure(figsize\u001b[39m=\u001b[39m(\u001b[39m12\u001b[39m,\u001b[39m6\u001b[39m))\n\u001b[1;32m      <a href='vscode-notebook-cell://ssh-remote%2Broomba/data/a/cpac/abarnea/Bispectra/Bispectrum/bispec_method_testing.ipynb#X21sdnNjb2RlLXJlbW90ZQ%3D%3D?line=3'>4</a>\u001b[0m \u001b[39mfor\u001b[39;00m i \u001b[39min\u001b[39;00m \u001b[39mrange\u001b[39m(nmaps):\n\u001b[0;32m----> <a href='vscode-notebook-cell://ssh-remote%2Broomba/data/a/cpac/abarnea/Bispectra/Bispectrum/bispec_method_testing.ipynb#X21sdnNjb2RlLXJlbW90ZQ%3D%3D?line=4'>5</a>\u001b[0m     plt\u001b[39m.\u001b[39;49mplot(temp_ells, bls[i])\n\u001b[1;32m      <a href='vscode-notebook-cell://ssh-remote%2Broomba/data/a/cpac/abarnea/Bispectra/Bispectrum/bispec_method_testing.ipynb#X21sdnNjb2RlLXJlbW90ZQ%3D%3D?line=5'>6</a>\u001b[0m plt\u001b[39m.\u001b[39mtitle(\u001b[39mf\u001b[39m\u001b[39m\"\u001b[39m\u001b[39mgaussian bispectra for nmaps=\u001b[39m\u001b[39m{\u001b[39;00mnmaps\u001b[39m}\u001b[39;00m\u001b[39m and bins=\u001b[39m\u001b[39m{\u001b[39;00mnbins\u001b[39m}\u001b[39;00m\u001b[39m\"\u001b[39m)\n\u001b[1;32m      <a href='vscode-notebook-cell://ssh-remote%2Broomba/data/a/cpac/abarnea/Bispectra/Bispectrum/bispec_method_testing.ipynb#X21sdnNjb2RlLXJlbW90ZQ%3D%3D?line=6'>7</a>\u001b[0m plt\u001b[39m.\u001b[39mxlabel(\u001b[39m\"\u001b[39m\u001b[39mmultipole triplet $(\u001b[39m\u001b[39m\\\u001b[39m\u001b[39mell_1,\u001b[39m\u001b[39m\\\u001b[39m\u001b[39mell_2,\u001b[39m\u001b[39m\\\u001b[39m\u001b[39mell_3)$\u001b[39m\u001b[39m\"\u001b[39m, fontsize\u001b[39m=\u001b[39m\u001b[39m18\u001b[39m)\n",
      "File \u001b[0;32m~/miniconda3/lib/python3.9/site-packages/matplotlib/pyplot.py:2757\u001b[0m, in \u001b[0;36mplot\u001b[0;34m(scalex, scaley, data, *args, **kwargs)\u001b[0m\n\u001b[1;32m   2755\u001b[0m \u001b[39m@_copy_docstring_and_deprecators\u001b[39m(Axes\u001b[39m.\u001b[39mplot)\n\u001b[1;32m   2756\u001b[0m \u001b[39mdef\u001b[39;00m \u001b[39mplot\u001b[39m(\u001b[39m*\u001b[39margs, scalex\u001b[39m=\u001b[39m\u001b[39mTrue\u001b[39;00m, scaley\u001b[39m=\u001b[39m\u001b[39mTrue\u001b[39;00m, data\u001b[39m=\u001b[39m\u001b[39mNone\u001b[39;00m, \u001b[39m*\u001b[39m\u001b[39m*\u001b[39mkwargs):\n\u001b[0;32m-> 2757\u001b[0m     \u001b[39mreturn\u001b[39;00m gca()\u001b[39m.\u001b[39;49mplot(\n\u001b[1;32m   2758\u001b[0m         \u001b[39m*\u001b[39;49margs, scalex\u001b[39m=\u001b[39;49mscalex, scaley\u001b[39m=\u001b[39;49mscaley,\n\u001b[1;32m   2759\u001b[0m         \u001b[39m*\u001b[39;49m\u001b[39m*\u001b[39;49m({\u001b[39m\"\u001b[39;49m\u001b[39mdata\u001b[39;49m\u001b[39m\"\u001b[39;49m: data} \u001b[39mif\u001b[39;49;00m data \u001b[39mis\u001b[39;49;00m \u001b[39mnot\u001b[39;49;00m \u001b[39mNone\u001b[39;49;00m \u001b[39melse\u001b[39;49;00m {}), \u001b[39m*\u001b[39;49m\u001b[39m*\u001b[39;49mkwargs)\n",
      "File \u001b[0;32m~/miniconda3/lib/python3.9/site-packages/matplotlib/axes/_axes.py:1632\u001b[0m, in \u001b[0;36mAxes.plot\u001b[0;34m(self, scalex, scaley, data, *args, **kwargs)\u001b[0m\n\u001b[1;32m   1390\u001b[0m \u001b[39m\"\"\"\u001b[39;00m\n\u001b[1;32m   1391\u001b[0m \u001b[39mPlot y versus x as lines and/or markers.\u001b[39;00m\n\u001b[1;32m   1392\u001b[0m \n\u001b[0;32m   (...)\u001b[0m\n\u001b[1;32m   1629\u001b[0m \u001b[39m(``'green'``) or hex strings (``'#008000'``).\u001b[39;00m\n\u001b[1;32m   1630\u001b[0m \u001b[39m\"\"\"\u001b[39;00m\n\u001b[1;32m   1631\u001b[0m kwargs \u001b[39m=\u001b[39m cbook\u001b[39m.\u001b[39mnormalize_kwargs(kwargs, mlines\u001b[39m.\u001b[39mLine2D)\n\u001b[0;32m-> 1632\u001b[0m lines \u001b[39m=\u001b[39m [\u001b[39m*\u001b[39m\u001b[39mself\u001b[39m\u001b[39m.\u001b[39m_get_lines(\u001b[39m*\u001b[39margs, data\u001b[39m=\u001b[39mdata, \u001b[39m*\u001b[39m\u001b[39m*\u001b[39mkwargs)]\n\u001b[1;32m   1633\u001b[0m \u001b[39mfor\u001b[39;00m line \u001b[39min\u001b[39;00m lines:\n\u001b[1;32m   1634\u001b[0m     \u001b[39mself\u001b[39m\u001b[39m.\u001b[39madd_line(line)\n",
      "File \u001b[0;32m~/miniconda3/lib/python3.9/site-packages/matplotlib/axes/_base.py:312\u001b[0m, in \u001b[0;36m_process_plot_var_args.__call__\u001b[0;34m(self, data, *args, **kwargs)\u001b[0m\n\u001b[1;32m    310\u001b[0m     this \u001b[39m+\u001b[39m\u001b[39m=\u001b[39m args[\u001b[39m0\u001b[39m],\n\u001b[1;32m    311\u001b[0m     args \u001b[39m=\u001b[39m args[\u001b[39m1\u001b[39m:]\n\u001b[0;32m--> 312\u001b[0m \u001b[39myield from\u001b[39;00m \u001b[39mself\u001b[39;49m\u001b[39m.\u001b[39;49m_plot_args(this, kwargs)\n",
      "File \u001b[0;32m~/miniconda3/lib/python3.9/site-packages/matplotlib/axes/_base.py:498\u001b[0m, in \u001b[0;36m_process_plot_var_args._plot_args\u001b[0;34m(self, tup, kwargs, return_kwargs)\u001b[0m\n\u001b[1;32m    495\u001b[0m     \u001b[39mself\u001b[39m\u001b[39m.\u001b[39maxes\u001b[39m.\u001b[39myaxis\u001b[39m.\u001b[39mupdate_units(y)\n\u001b[1;32m    497\u001b[0m \u001b[39mif\u001b[39;00m x\u001b[39m.\u001b[39mshape[\u001b[39m0\u001b[39m] \u001b[39m!=\u001b[39m y\u001b[39m.\u001b[39mshape[\u001b[39m0\u001b[39m]:\n\u001b[0;32m--> 498\u001b[0m     \u001b[39mraise\u001b[39;00m \u001b[39mValueError\u001b[39;00m(\u001b[39mf\u001b[39m\u001b[39m\"\u001b[39m\u001b[39mx and y must have same first dimension, but \u001b[39m\u001b[39m\"\u001b[39m\n\u001b[1;32m    499\u001b[0m                      \u001b[39mf\u001b[39m\u001b[39m\"\u001b[39m\u001b[39mhave shapes \u001b[39m\u001b[39m{\u001b[39;00mx\u001b[39m.\u001b[39mshape\u001b[39m}\u001b[39;00m\u001b[39m and \u001b[39m\u001b[39m{\u001b[39;00my\u001b[39m.\u001b[39mshape\u001b[39m}\u001b[39;00m\u001b[39m\"\u001b[39m)\n\u001b[1;32m    500\u001b[0m \u001b[39mif\u001b[39;00m x\u001b[39m.\u001b[39mndim \u001b[39m>\u001b[39m \u001b[39m2\u001b[39m \u001b[39mor\u001b[39;00m y\u001b[39m.\u001b[39mndim \u001b[39m>\u001b[39m \u001b[39m2\u001b[39m:\n\u001b[1;32m    501\u001b[0m     \u001b[39mraise\u001b[39;00m \u001b[39mValueError\u001b[39;00m(\u001b[39mf\u001b[39m\u001b[39m\"\u001b[39m\u001b[39mx and y can be no greater than 2D, but have \u001b[39m\u001b[39m\"\u001b[39m\n\u001b[1;32m    502\u001b[0m                      \u001b[39mf\u001b[39m\u001b[39m\"\u001b[39m\u001b[39mshapes \u001b[39m\u001b[39m{\u001b[39;00mx\u001b[39m.\u001b[39mshape\u001b[39m}\u001b[39;00m\u001b[39m and \u001b[39m\u001b[39m{\u001b[39;00my\u001b[39m.\u001b[39mshape\u001b[39m}\u001b[39;00m\u001b[39m\"\u001b[39m)\n",
      "\u001b[0;31mValueError\u001b[0m: x and y must have same first dimension, but have shapes (21,) and (1,)"
     ]
    },
    {
     "data": {
      "image/png": "[encoded data removed]",
      "text/plain": [
       "<Figure size 864x432 with 1 Axes>"
      ]
     },
     "metadata": {
      "needs_background": "light"
     },
     "output_type": "display_data"
    }
   ],
   "source": [
    "temp_ells = np.arange(lmin, lmax+1, nbins)\n",
    "\n",
    "plt.figure(figsize=(12,6))\n",
    "for i in range(nmaps):\n",
    "    plt.plot(temp_ells, bls[i])\n",
    "plt.title(f\"gaussian bispectra for nmaps={nmaps} and bins={nbins}\")\n",
    "plt.xlabel(\"multipole triplet $(\\ell_1,\\ell_2,\\ell_3)$\", fontsize=18)\n",
    "plt.ylabel(\"$B^{gauss}_{\\ell_1, \\ell_2, \\ell_3}$\", fontsize=18)\n",
    "plt.xticks(fontsize=14); plt.yticks(fontsize=14)\n",
    "plt.show()\n",
    "plt.figure(figsize=(12,6))\n",
    "plt.errorbar(temp_ells, np.abs(np.mean(bls, 0)), np.std(bls, 0)/np.sqrt(nmaps))\n",
    "plt.title(\"bispectra error spread\", fontsize=18)\n",
    "plt.xticks(fontsize=14); plt.yticks(fontsize=14)\n",
    "plt.xlabel(\"multipole triplet $(\\ell_1,\\ell_2,\\ell_3)$\", fontsize=18)\n",
    "plt.ylabel(\"mean $B^{gauss}_{\\ell_1, \\ell_2, \\ell_3}$\", fontsize=18)\n",
    "plt.yscale('log')\n",
    "plt.show()"
   ]
  }
 ],
 "metadata": {
  "kernelspec": {
   "display_name": "base",
   "language": "python",
   "name": "python3"
  },
  "language_info": {
   "codemirror_mode": {
    "name": "ipython",
    "version": 3
   },
   "file_extension": ".py",
   "mimetype": "text/x-python",
   "name": "python",
   "nbconvert_exporter": "python",
   "pygments_lexer": "ipython3",
   "version": "3.9.12"
  },
  "orig_nbformat": 4,
  "vscode": {
   "interpreter": {
    "hash": "c71467c1cead1faa151a2e40e8c8dc7122fa70e94f152c28cbbc4540833ad705"
   }
  }
 },
 "nbformat": 4,
 "nbformat_minor": 2
}
