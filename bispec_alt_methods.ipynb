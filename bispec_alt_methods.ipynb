{
 "cells": [
  {
   "cell_type": "code",
   "execution_count": 26,
   "metadata": {},
   "outputs": [
    {
     "name": "stdout",
     "output_type": "stream",
     "text": [
      "The autoreload extension is already loaded. To reload it, use:\n",
      "  %reload_ext autoreload\n"
     ]
    }
   ],
   "source": [
    "%load_ext autoreload\n",
    "%autoreload 2"
   ]
  },
  {
   "cell_type": "code",
   "execution_count": 27,
   "metadata": {},
   "outputs": [],
   "source": [
    "import numpy as np\n",
    "import healpy as hp\n",
    "import scipy\n",
    "from numba import jit, njit, prange, set_num_threads\n",
    "from tqdm.notebook import tqdm\n",
    "from helper_funcs import *"
   ]
  },
  {
   "attachments": {},
   "cell_type": "markdown",
   "metadata": {},
   "source": [
    "## Map Method"
   ]
  },
  {
   "cell_type": "code",
   "execution_count": 28,
   "metadata": {},
   "outputs": [],
   "source": [
    "def sort_alms(alms, lmax):\n",
    "    '''\n",
    "    Sorts healpix alm's by \\ell instead of m given a fortran90 array output from hp.map2alm.\n",
    "\n",
    "    Parameters\n",
    "    ----------\n",
    "    alms : fortran90 healpix alm array from hp.map2alm\n",
    "    num_ls : number of l's in alms array\n",
    "    \n",
    "    Returns\n",
    "    ----------\n",
    "    sorted_alms : alm dictionary keyed by ell values with numpy arrays consisting of the corresponding m values.\n",
    "    '''\n",
    "    start = 0\n",
    "    sorted_alms = {}\n",
    "\n",
    "    for l in range(lmax):\n",
    "        sorted_alms[l] = np.zeros(2*l+1, dtype=np.cdouble)\n",
    "\n",
    "    for m in range(lmax):\n",
    "        num_ms = lmax - m\n",
    "        ms = alms[start:num_ms + start]\n",
    "        start = num_ms + start\n",
    "        m_sign = (-1)**m\n",
    "        for l in range(num_ms):\n",
    "            idx = m + l\n",
    "            sorted_alms[idx][m] = ms[l]\n",
    "            if m != 0:\n",
    "                sorted_alms[idx][-m] = m_sign * np.conj(ms[l])\n",
    "    \n",
    "    return sorted_alms"
   ]
  },
  {
   "cell_type": "code",
   "execution_count": 29,
   "metadata": {},
   "outputs": [],
   "source": [
    "lmax = 1000\n",
    "ells = np.arange(lmax+1)\n",
    "cls = np.zeros_like(ells, dtype='float')\n",
    "\n",
    "for l in ells[1:]:\n",
    "    cls[l] = (l+0.0)**(-3.)\n",
    "\n",
    "theory_map, alms = hp.sphtfunc.synfast(cls=cls, nside=1024, lmax=lmax, alm=True)"
   ]
  },
  {
   "cell_type": "code",
   "execution_count": 30,
   "metadata": {},
   "outputs": [],
   "source": [
    "sorted_alms = sort_alms(alms, len(cls))"
   ]
  },
  {
   "cell_type": "code",
   "execution_count": 31,
   "metadata": {},
   "outputs": [],
   "source": [
    "def unsort_alms(sorted_alms):\n",
    "    \"\"\"\n",
    "    Unsorts a sorted_alm dictionary from sorted_alms into a Fortran90\n",
    "    array that can be processed by HEALPix.\n",
    "\n",
    "    Inputs:\n",
    "        sorted_alms (dict[ndarray]) : sorted alms from sort_alms\n",
    "\n",
    "    Returns:\n",
    "        (ndarray) : unsorted alms for HEALPix\n",
    "    \"\"\"\n",
    "    ells = np.array(list(sorted_alms.keys()))\n",
    "    lmax = ells[-1]\n",
    "    unsorted_alms = np.zeros(np.sum(ells + 1), dtype=np.complex128)\n",
    "\n",
    "    start = 0\n",
    "    for m in range(lmax + 1):\n",
    "        for ell in range(m, lmax + 1):\n",
    "            unsorted_alms[start + ell] = sorted_alms[ell][m]\n",
    "        start += lmax - m\n",
    "    \n",
    "    return unsorted_alms\n"
   ]
  },
  {
   "cell_type": "code",
   "execution_count": 32,
   "metadata": {},
   "outputs": [],
   "source": [
    "unsorted_alms = unsort_alms(sorted_alms)"
   ]
  },
  {
   "attachments": {},
   "cell_type": "markdown",
   "metadata": {},
   "source": [
    "We divide the $\\ell$-range $\\left[\\ell_{\\min }, \\ell_{\\max }\\right]$ into subintervals denoted by $\\Delta_i=\\left[\\ell_i, \\ell_{i+1}-1\\right]$ where $i=0, \\ldots,\\left(N_{\\text {bins }}-1\\right)$ and $\\ell_{N_{\\text {bins }}}=\\ell_{\\max }+1$, so that the filtered maps are:\n",
    "\n",
    "\\begin{equation*}\n",
    "M_i^p(\\Omega)=\\sum_{\\ell \\in \\Delta_i} \\sum_{m=-\\ell}^{+\\ell} a_{\\ell m}^p Y_{\\ell m}(\\hat{\\Omega}) \\tag{2.5}\n",
    "\\end{equation*}\n",
    "\n",
    "and we use these instead of $M_{\\ell}^p$ in the expression for the bispectrum (2.5). The binned bispectrum is:\n",
    "\n",
    "\\begin{equation*}\n",
    "B_{i_1 i_2 i_3}^{p_1 p_2 p_3, \\mathrm{obs}}=\\frac{1}{\\Xi_{i_1 i_2 i_3}} \\int d \\hat{\\Omega} M_{i_1}^{p_1, \\mathrm{obs}}(\\hat{\\Omega}) M_{i_2}^{p_2, \\mathrm{obs}}(\\hat{\\Omega}) M_{i_3}^{p_3, \\mathrm{obs}}(\\hat{\\Omega}) \\tag{2.6}\n",
    "\\end{equation*}\n",
    "\n",
    "where $\\Xi_{i_1 i_2 i_3}$ is the number of $\\ell$ triplets within the $\\left(i_1, i_2, i_3\\right)$ bin triplet satisfying the triangle inequality and parity condition selection rule."
   ]
  },
  {
   "cell_type": "code",
   "execution_count": 33,
   "metadata": {},
   "outputs": [],
   "source": [
    "@njit\n",
    "def check_valid_triangle(l1, l2, l3):\n",
    "    \"\"\"\n",
    "    Checks if a set of l1, l2, l3's form a valid triangle, which can be\n",
    "    confirmed if the l's satisfy the following three metrics:\n",
    "    1. bispectrum is symmetric under any l1, l2, l3 permutations\n",
    "    2. even parity selection rule\n",
    "    3. triangle inequality\n",
    "\n",
    "    Inputs:\n",
    "        l1 (int) : l1\n",
    "        l2 (int) : l2\n",
    "        l3 (int) : l3\n",
    "    \n",
    "    Returns:\n",
    "        (bool) : returns True if triangle is valid, False otherwise\n",
    "    \"\"\"\n",
    "    permutations = l1 <= l2 <= l3\n",
    "    even_parity = (l1 + l2 + l3) % 2 == 0\n",
    "    tri_inequality = np.abs(l1 - l2) <= l3 <= l1 + l2\n",
    "\n",
    "    return permutations and even_parity and tri_inequality\n"
   ]
  },
  {
   "cell_type": "code",
   "execution_count": 34,
   "metadata": {},
   "outputs": [],
   "source": [
    "# @njit(parallel=True)\n",
    "def count_valid_configs(i1, i2, i3, num_threads=16):\n",
    "    \"\"\"\n",
    "    Counts the number of valid ell-triplet configurations in a single bin.\n",
    "    Validity is determined as satisfying the parity condition selection\n",
    "    rule and the triangle inequality.\n",
    "\n",
    "    Inputs:\n",
    "        i1 (int) : bin1\n",
    "        i2 (int) : bin2\n",
    "        i3 (int) : bin3\n",
    "        num_threads (int) : number of threads to parallelize on\n",
    "\n",
    "    Returns:\n",
    "        (int) : number of valid configurations of ell-triplets.\n",
    "    \"\"\"\n",
    "\n",
    "    set_num_threads(num_threads)\n",
    "\n",
    "    configs = 0\n",
    "\n",
    "    for l1 in i1:\n",
    "        for l2 in i2:\n",
    "            for l3 in i3:\n",
    "                if check_valid_triangle(l1, l2, l3):\n",
    "                    configs += 1\n",
    "    \n",
    "    return configs"
   ]
  },
  {
   "cell_type": "code",
   "execution_count": 35,
   "metadata": {},
   "outputs": [],
   "source": [
    "def filter_map_binned(sorted_alms, i_bins, nside=1024):\n",
    "    \"\"\"\n",
    "    Map alms that have been binned and filtered.\n",
    "\n",
    "    Inputs:\n",
    "        sorted_alms (dict) : dictionary of sorted alms\n",
    "        lmin (int) : lmin\n",
    "        lmax (int) : lmax\n",
    "        nbins (int) : number of bins\n",
    "    \n",
    "    Returns:\n",
    "        (ndarray) : healpix map of filtered alms\n",
    "    \"\"\"\n",
    "    filtered_alms = {}\n",
    "    for ells in range(lmax):\n",
    "        filtered_alms[ells] = np.zeros(2*l+1, dtype=np.cdouble)\n",
    "\n",
    "    for ell in i_bins:\n",
    "        filtered_alms[ell] = sorted_alms[ell]\n",
    "        # for m in range(-ell, ell + 1):\n",
    "        #     filtered_alms[ell][m] = sorted_alms[ell][m]\n",
    "    \n",
    "    return hp.alm2map(unsort_alms(filtered_alms), nside=nside)"
   ]
  },
  {
   "cell_type": "code",
   "execution_count": 36,
   "metadata": {},
   "outputs": [],
   "source": [
    "def create_bins(lmin, lmax, nbins):\n",
    "    i = np.arange(lmin, lmax, nbins)\n",
    "    return i, i, i"
   ]
  },
  {
   "cell_type": "code",
   "execution_count": 37,
   "metadata": {},
   "outputs": [],
   "source": [
    "def get_pix_area(map):\n",
    "    return hp.nside2pixarea(hp.get_nside(map))\n",
    "\n",
    "def get_pix_areas(map1, map2, map3):\n",
    "    return get_pix_area(map1), get_pix_area(map2), get_pix_area(map3)\n",
    "\n",
    "def get_map_sizes(map1, map2, map3):\n",
    "    return hp.get_map_size(map1). hp.get_map_size(map2), hp.get_map_size(map3)"
   ]
  },
  {
   "cell_type": "code",
   "execution_count": 38,
   "metadata": {},
   "outputs": [],
   "source": [
    "lmin = 2\n",
    "lmax = 10\n",
    "nbins = 1\n",
    "\n",
    "i1, i2, i3 = create_bins(lmin, lmax, nbins)\n",
    "map_i1 = filter_map_binned(sorted_alms, i1)\n",
    "map_i2 = filter_map_binned(sorted_alms, i2)\n",
    "map_i3 = filter_map_binned(sorted_alms, i3)"
   ]
  },
  {
   "cell_type": "code",
   "execution_count": 39,
   "metadata": {},
   "outputs": [],
   "source": [
    "# @njit(parallel=True)\n",
    "# to speed up, will jit local function to compute bispec within.\n",
    "def compute_binned_bispec(i1, i2, i3, map_i1, map_i2, map_i3, num_threads=16):\n",
    "    \"\"\"\n",
    "    Compute binned bispec\n",
    "\n",
    "    Parameters:\n",
    "    \"\"\"\n",
    "    xi = count_valid_configs(i1, i2, i3, num_threads=num_threads)\n",
    "    assert xi != 0\n",
    "\n",
    "    pixarea_1, pixarea_2, pixarea_3 = get_pix_areas(map_i1, map_i2, map_i3)\n",
    "    B_i = np.sum(map_i1 * map_i2 * map_i3)\n",
    "\n",
    "    return 1 / xi * B_i\n"
   ]
  },
  {
   "cell_type": "code",
   "execution_count": 40,
   "metadata": {},
   "outputs": [],
   "source": [
    "b_val = compute_binned_bispec(i1, i2, i3, map_i1, map_i2, map_i3)"
   ]
  },
  {
   "cell_type": "code",
   "execution_count": 41,
   "metadata": {},
   "outputs": [
    {
     "name": "stdout",
     "output_type": "stream",
     "text": [
      "-7266.459643287703\n"
     ]
    }
   ],
   "source": [
    "print(b_val)"
   ]
  },
  {
   "cell_type": "code",
   "execution_count": 42,
   "metadata": {},
   "outputs": [
    {
     "name": "stdout",
     "output_type": "stream",
     "text": [
      "9.986854087797142e-07\n",
      "12582912\n"
     ]
    }
   ],
   "source": [
    "print(get_pix_area(theory_map))\n",
    "print(hp.get_map_size(theory_map))"
   ]
  },
  {
   "attachments": {},
   "cell_type": "markdown",
   "metadata": {},
   "source": [
    "## Filter Method"
   ]
  },
  {
   "attachments": {},
   "cell_type": "markdown",
   "metadata": {},
   "source": [
    "Because of this normalization factor, $B_{i_1 i_2 i_3}^{p_1 p_2 p_3}$ may be considered an average over all valid $B_{\\ell_1 \\ell_2 \\ell_3}^{p_1 p_2 p_3}$ inside the bin triplet."
   ]
  },
  {
   "cell_type": "code",
   "execution_count": 43,
   "metadata": {},
   "outputs": [],
   "source": [
    "# @njit(parallel=True)\n",
    "def find_valid_configs(i1, i2, i3, num_threads=16):\n",
    "    \"\"\"\n",
    "    Counts the number of valid ell-triplet configurations in a single bin.\n",
    "    Validity is determined as satisfying the parity condition selection\n",
    "    rule and the triangle inequality.\n",
    "\n",
    "    Inputs:\n",
    "        i1 (int) : bin1\n",
    "        i2 (int) : bin2\n",
    "        i3 (int) : bin3\n",
    "        num_threads (int) : number of threads to parallelize on\n",
    "\n",
    "    Returns:\n",
    "        (int) : number of valid configurations of ell-triplets.\n",
    "    \"\"\"\n",
    "\n",
    "    set_num_threads(num_threads)\n",
    "\n",
    "    valid_configs = set()\n",
    "\n",
    "    i = 0\n",
    "    for l1 in i1:\n",
    "        for l2 in i2:\n",
    "            for l3 in i3:\n",
    "                if check_valid_triangle(l1, l2, l3):\n",
    "                    valid_configs.add((l1, l2, l3))\n",
    "\n",
    "    return valid_configs"
   ]
  },
  {
   "cell_type": "code",
   "execution_count": 44,
   "metadata": {},
   "outputs": [],
   "source": [
    "@njit(parallel=True)\n",
    "def compute_bispec(l1, l2, l3, alms_l1, alms_l2, alms_l3, num_threads=16):\n",
    "\n",
    "    assert (l1 + l2 + l3) % 2 == 0, \"even parity not satisfied\" # even parity\n",
    "    assert np.abs(l1-l2) <= l3 <= l1+l2, \"triangle inequality not satisfied\" # triangle inequality\n",
    "\n",
    "    bispec_sum = 0\n",
    "    val_init = (max(l1, l2, l3) + 1) * 2\n",
    "\n",
    "    set_num_threads(num_threads) # set for Roomba to be 16 threads max\n",
    "\n",
    "    lib.wig_table_init(val_init, 3)\n",
    "\n",
    "    lib.wig_temp_init(val_init)\n",
    "    norm_factor = ((l1*2+1) * (l2*2+1) * (l3*2+1))/(4*np.pi) \\\n",
    "                        * (nb_wig3jj(2*l1, 2*l2, 2*l3, 0, 0, 0))**2\n",
    "    lib.wig_temp_free()\n",
    "\n",
    "    if not norm_factor:\n",
    "        return 0\n",
    "\n",
    "    for m1 in prange(-l1, l1+1):\n",
    "        lib.wig_temp_init(val_init)\n",
    "        for m2 in range(-l2, l2+1):\n",
    "            m3 = -(m1 + m2) # noting that m1 + m2 + m3 == 0\n",
    "            w3j = nb_wig3jj(2*l1, 2*l2, 2*l3, 2*m1, 2*m2, 2*m3)\n",
    "            if w3j:\n",
    "                exp_alms = alms_l1[m1] * alms_l2[m2] * alms_l3[m3]\n",
    "                bispec_sum += w3j * np.abs(exp_alms)\n",
    "        lib.wig_temp_free()\n",
    "    \n",
    "    lib.wig_table_free()\n",
    "\n",
    "    return np.sqrt(norm_factor) * bispec_sum"
   ]
  },
  {
   "cell_type": "code",
   "execution_count": 45,
   "metadata": {},
   "outputs": [],
   "source": [
    "def compute_averaged_bispec(i1, i2, i3, sorted_alms, num_threads=16):\n",
    "    \n",
    "    configs = find_valid_configs(i1, i2, i3)\n",
    "\n",
    "    bls = 0\n",
    "    for l1, l2, l3 in configs:\n",
    "        bls += compute_bispec(l1, l2, l3, sorted_alms[l1], sorted_alms[l2], sorted_alms[l3], num_threads=num_threads)\n",
    "    \n",
    "    return bls / len(configs)"
   ]
  },
  {
   "cell_type": "code",
   "execution_count": 65,
   "metadata": {},
   "outputs": [],
   "source": [
    "lmax = 10\n",
    "ells = np.arange(lmax+1)\n",
    "cls = np.zeros_like(ells, dtype='float')\n",
    "\n",
    "for l in ells[1:]:\n",
    "    cls[l] = (l+0.0)**(-3.)\n",
    "\n",
    "theory_map, alms = hp.sphtfunc.synfast(cls=cls, nside=1024, lmax=lmax, alm=True)\n",
    "sorted_alms = sort_alms(alms, lmax=lmax)"
   ]
  },
  {
   "cell_type": "code",
   "execution_count": 66,
   "metadata": {},
   "outputs": [],
   "source": [
    "b_val2 = compute_averaged_bispec(i1, i2, i3, sorted_alms)"
   ]
  },
  {
   "cell_type": "code",
   "execution_count": 67,
   "metadata": {},
   "outputs": [
    {
     "name": "stdout",
     "output_type": "stream",
     "text": [
      "0.005379000875094182\n"
     ]
    }
   ],
   "source": [
    "print(b_val2)"
   ]
  },
  {
   "attachments": {},
   "cell_type": "markdown",
   "metadata": {},
   "source": [
    "## Variance"
   ]
  },
  {
   "attachments": {},
   "cell_type": "markdown",
   "metadata": {},
   "source": [
    "Let's look at the theoretical variance, given by:\n",
    "\n",
    "$$ \\operatorname{Var}\\left(B_{\\ell_{1} \\ell_{2} \\ell_{3}}\\right)=g_{\\ell_{1} \\ell_{2} \\ell_{3}} N_{\\Delta}^{\\ell_{1} \\ell_{2} \\ell_{3}} C_{\\ell_{1}} C_{\\ell_{2}} C_{\\ell_{3}} \\equiv V_{\\ell_{1} \\ell_{2} \\ell_{3}} $$\n",
    "\n",
    "such that $N_{\\Delta}^{\\ell_1 \\ell_2 \\ell_3}$ is as before, namely:\n",
    "\n",
    "$$ N_{\\Delta}^{\\ell_1\\ell_2\\ell_3} = \\frac{(2\\ell_1+1)(2\\ell_2+1)(2\\ell_3+1)}{4\\pi} \\begin{pmatrix}\n",
    "    \\ell_1 & \\ell_2 & \\ell_3 \\\\\n",
    "    0 & 0 & 0\n",
    "\\end{pmatrix}^2 $$\n",
    "\n",
    "and $g_{\\ell_1 \\ell_2 \\ell_3}$ is equal to either 6, 2, or 1 depending on whether 3, 2, or no $\\ell$'s are equal respectively. This implies that, for the equilateral case we're dealing with above, $g_{\\ell_1 \\ell_2 \\ell_3} = 6$, giving us a variance of:\n",
    "\n",
    "$$ V_{\\ell_1 \\ell_2 \\ell_3} = 6 \\cdot N_{\\Delta}^{\\ell_1 \\ell_2 \\ell_3} \\cdot C_{\\ell_1} C_{\\ell_2} C_{\\ell_3} $$\n",
    "\n",
    "It should be noted that, for the binned bispectrum $ B_{i_1 i_2 i_3} = (\\Xi_{i_1 i_2 i_3})^{-1} \\sum_{\\ell_1\\in\\Delta_1}\\sum_{\\ell_2\\in\\Delta_2}\\sum_{\\ell_3\\in\\Delta_3} B_{\\ell_1 \\ell_2 \\ell_3} $ where $\\Xi_{i_1 i_2 i_3}$ is the number of $\\ell$ triplets within the $(i_1,i_2,i_3)$ bin triplet satisfying the triangle\n",
    "inequality and parity condition selection rule, the variance $\\operatorname{Var} (B_{i_1 i_2 i_3})$ is:\n",
    "\n",
    "$$ \\operatorname{Var} (B_{i_1 i_2 i_3}) = \\frac{g_{i_1 i_2 i_3}}{(\\Xi_{i_1 i_2 i_3})^2} \\sum_{\\ell_1\\in\\Delta_1}\\sum_{\\ell_2\\in\\Delta_2}\\sum_{\\ell_3\\in\\Delta_3} N_{\\Delta}^{\\ell_1 \\ell_2 \\ell_3} C_{\\ell_1} C_{\\ell_2} C_{\\ell_3} \\equiv V_{i_1 i_2 i_3} $$"
   ]
  },
  {
   "cell_type": "code",
   "execution_count": 57,
   "metadata": {},
   "outputs": [],
   "source": [
    "def find_bispec_var(l1, l2, l3, binned=False):\n",
    "    val_init = (max(l1, l2, l3) + 1) * 2\n",
    "    \n",
    "    lib.wig_table_init(val_init, 3)\n",
    "    lib.wig_temp_init(val_init)\n",
    "    norm_factor = ((l1 * 2 + 1) * (l2 * 2 + 1) * (l3 * 2 + 1))/(4 * np.pi) * (get_w3j(l1, l2, l3, 0, 0, 0))**2\n",
    "    lib.wig_temp_free()\n",
    "    lib.wig_table_free()\n",
    "    \n",
    "    ells = np.array([l1, l2, l3])\n",
    "    cls = (ells+0.0)**(-3.)\n",
    "    if not binned:\n",
    "        g = find_g_val(l1, l2, l3)\n",
    "        return g * norm_factor * np.prod(cls)\n",
    "    else:\n",
    "        return norm_factor * np.prod(cls)\n",
    "\n",
    "def find_binned_bispec_var(i1, i2, i3):\n",
    "    \"\"\"\n",
    "    Finds the variance of the binned bispectrum according to Eq.\n",
    "\n",
    "    Inputs:\n",
    "        i1 (ndarray) : i1 bins\n",
    "        i2 (ndarray) : i2 bins\n",
    "        i3 (ndarray) : i3 bins\n",
    "    \n",
    "    Returns:\n",
    "        (ndarray) : variance of binned bispectrum\n",
    "    \"\"\"\n",
    "    configs = find_valid_configs(i1, i2, i3)\n",
    "    num_configs = len(configs)\n",
    "\n",
    "    bls_var = np.zeros_like(i1, dtype='float')\n",
    "    for i, l1 in enumerate(i1):\n",
    "        for l2 in i2:\n",
    "            for l3 in i3:\n",
    "                bls_var[i] += find_bispec_var(l1, l2, l3, binned=True)\n",
    "    \n",
    "    g = find_g_val(i1[-1], i2[-1], i3[-1])\n",
    "\n",
    "    return g/(num_configs**2) * bls_var\n",
    "\n",
    "def find_g_val(val1, val2, val3):\n",
    "    \"\"\"\n",
    "    Finds the g-value given 3 inputted ell values or bins.\n",
    "\n",
    "    Inputs:\n",
    "        val1 (int) : \n",
    "    \"\"\"\n",
    "    if val1 == val2 == val3:\n",
    "        return 6\n",
    "    elif val1 != val2 != val3:\n",
    "        return 1\n",
    "    else:\n",
    "        return 2"
   ]
  },
  {
   "cell_type": "code",
   "execution_count": 58,
   "metadata": {},
   "outputs": [],
   "source": [
    "binned_var = find_binned_bispec_var(i1, i2, i3)"
   ]
  },
  {
   "cell_type": "code",
   "execution_count": 61,
   "metadata": {},
   "outputs": [
    {
     "data": {
      "image/png": "[encoded data removed]",
      "text/plain": [
       "<Figure size 864x432 with 1 Axes>"
      ]
     },
     "metadata": {
      "needs_background": "light"
     },
     "output_type": "display_data"
    }
   ],
   "source": [
    "plt.figure(figsize=(12, 6))\n",
    "# plt.plot(ls, np.std(bls_maps, 0)**2, 'k--', label=\"gauss\")\n",
    "# plt.plot(ls, np.std(bls_maps_ng, 0)**2, 'r:', label=\"nongauss\")\n",
    "# plt.plot(ls, (ls+0.0)**(-8), label=\"$\\ell^{-8}$\")\n",
    "# plt.plot(ls, bls_var, label=\"$V_{\\ell_1 \\ell_2 \\ell_3}$\")\n",
    "plt.plot(i1, binned_var, label=\"$V_{i_1 i_2 i_3}$\")\n",
    "plt.legend(frameon=False, loc='upper right', fontsize=16)\n",
    "plt.title(f\"variance of bispectra for ibins = [{i1[0], i1[-1]}], nbins={nbins}\", fontsize=18)\n",
    "plt.xlabel(\"multipole triplet $(\\ell_1,\\ell_2,\\ell_3)$\", fontsize=18)\n",
    "plt.ylabel(\"variance of $B_{\\ell_1, \\ell_2, \\ell_3}$\", fontsize=18)\n",
    "plt.yscale('log')\n",
    "plt.show()"
   ]
  }
 ],
 "metadata": {
  "kernelspec": {
   "display_name": "base",
   "language": "python",
   "name": "python3"
  },
  "language_info": {
   "codemirror_mode": {
    "name": "ipython",
    "version": 3
   },
   "file_extension": ".py",
   "mimetype": "text/x-python",
   "name": "python",
   "nbconvert_exporter": "python",
   "pygments_lexer": "ipython3",
   "version": "3.9.12"
  },
  "orig_nbformat": 4,
  "vscode": {
   "interpreter": {
    "hash": "c71467c1cead1faa151a2e40e8c8dc7122fa70e94f152c28cbbc4540833ad705"
   }
  }
 },
 "nbformat": 4,
 "nbformat_minor": 2
}
