{
 "cells": [
  {
   "cell_type": "code",
   "execution_count": 1,
   "metadata": {},
   "outputs": [],
   "source": [
    "%load_ext autoreload\n",
    "%autoreload 2"
   ]
  },
  {
   "cell_type": "code",
   "execution_count": 5,
   "metadata": {},
   "outputs": [],
   "source": [
    "import numpy as np\n",
    "import healpy as hp\n",
    "import scipy\n",
    "from numba import jit, njit, prange, set_num_threads\n",
    "from tqdm.notebook import tqdm\n",
    "from helper_funcs import *"
   ]
  },
  {
   "attachments": {},
   "cell_type": "markdown",
   "metadata": {},
   "source": [
    "We divide the $\\ell$-range $\\left[\\ell_{\\min }, \\ell_{\\max }\\right]$ into subintervals denoted by $\\Delta_i=\\left[\\ell_i, \\ell_{i+1}-1\\right]$ where $i=0, \\ldots,\\left(N_{\\text {bins }}-1\\right)$ and $\\ell_{N_{\\text {bins }}}=\\ell_{\\max }+1$, so that the filtered maps are:\n",
    "\n",
    "\\begin{equation*}\n",
    "M_i^p(\\Omega)=\\sum_{\\ell \\in \\Delta_i} \\sum_{m=-\\ell}^{+\\ell} a_{\\ell m}^p Y_{\\ell m}(\\hat{\\Omega}) \\tag{2.5}\n",
    "\\end{equation*}\n",
    "\n",
    "and we use these instead of $M_{\\ell}^p$ in the expression for the bispectrum (2.5). The binned bispectrum is:\n",
    "\n",
    "\\begin{equation*}\n",
    "B_{i_1 i_2 i_3}^{p_1 p_2 p_3, \\mathrm{obs}}=\\frac{1}{\\Xi_{i_1 i_2 i_3}} \\int d \\hat{\\Omega} M_{i_1}^{p_1, \\mathrm{obs}}(\\hat{\\Omega}) M_{i_2}^{p_2, \\mathrm{obs}}(\\hat{\\Omega}) M_{i_3}^{p_3, \\mathrm{obs}}(\\hat{\\Omega}) \\tag{2.6}\n",
    "\\end{equation*}\n",
    "\n",
    "where $\\Xi_{i_1 i_2 i_3}$ is the number of $\\ell$ triplets within the $\\left(i_1, i_2, i_3\\right)$ bin triplet satisfying the triangle inequality and parity condition selection rule. Because of this normalization factor, $B_{i_1 i_2 i_3}^{p_1 p_2 p_3}$ may be considered an average over all valid $B_{\\ell_1 \\ell_2 \\ell_3}^{p_1 p_2 p_3}$ inside the bin triplet."
   ]
  },
  {
   "cell_type": "code",
   "execution_count": 7,
   "metadata": {},
   "outputs": [],
   "source": [
    "def compute_filtered_maps(lmin, lmax, num_bins, alms, *omega):\n",
    "    theta, phi = omega\n",
    "    # scipy.special.sph_harm(l, m, theta, phi)\n",
    "    # for m in range(-l, l + 1):\n",
    "    #     alms[l][m]"
   ]
  },
  {
   "cell_type": "code",
   "execution_count": 3,
   "metadata": {},
   "outputs": [],
   "source": [
    "@njit(parallel=True)\n",
    "def count_valid_trips(i1, i2, i3, num_threads=16):\n",
    "    \"\"\"\n",
    "    Counts the number of valid ell-triplet configurations in a single bin.\n",
    "    Validity is determined as satisfying the parity condition selection\n",
    "    rule and the triangle inequality.\n",
    "\n",
    "    Inputs:\n",
    "    i1 (int) : bin1\n",
    "    i2 (int) : bin2\n",
    "    i3 (int) : bin3\n",
    "    num_threads (int) : number of threads to parallelize on\n",
    "\n",
    "    Returns:\n",
    "    (int) : number of valid configurations of ell-triplets.\n",
    "    \"\"\"\n",
    "\n",
    "    set_num_threads(num_threads)\n",
    "\n",
    "    configs = 0\n",
    "\n",
    "    for l1 in prange(i1 + 1):\n",
    "        for l2 in range(i2 + 1):\n",
    "            for l3 in range(i3 + 1):\n",
    "                if (l1 + l2 + l3) % 2 == 0 and \\\n",
    "                        np.abs(l1 - l2) <= l3 <= l1 + l2:\n",
    "                    configs += 1\n",
    "    \n",
    "    return configs"
   ]
  },
  {
   "cell_type": "code",
   "execution_count": 39,
   "metadata": {},
   "outputs": [],
   "source": [
    "# def P(l, m, x):\n",
    "# \tpmm = 1.0\n",
    "# \tif m > 0:\n",
    "# \t\tsomx2 = np.sqrt((1.0 - x) * (1.0 + x))\n",
    "# \t\tfact = 1.0\n",
    "# \t\tfor i in range(1, m + 1):\n",
    "# \t\t\tpmm *= (-fact) * somx2\n",
    "# \t\t\tfact += 2.0\n",
    "\t\n",
    "# \tif l == m:\n",
    "# \t\treturn pmm * np.ones(x.shape)\n",
    "\t\n",
    "# \tpmmp1 = x * (2.0*m+1.0) * pmm\n",
    "\t\n",
    "# \tif l == m + 1:\n",
    "# \t\treturn pmmp1\n",
    "\t\n",
    "# \tpll = np.zeros(x.shape)\n",
    "# \tfor ll in range(m + 2, l + 1):\n",
    "# \t\tpll = ((2.0 * ll - 1.0) * x * pmmp1 - (ll + m - 1.0) * pmm) / (ll - m)\n",
    "# \t\tpmm = pmmp1\n",
    "# \t\tpmmp1 = pll\n",
    "\t\n",
    "# \treturn pll"
   ]
  },
  {
   "cell_type": "code",
   "execution_count": null,
   "metadata": {},
   "outputs": [],
   "source": [
    "# def ylm_norm_factor(l, m):\n",
    "#     \"\"\"\n",
    "#     Finds the normalization factor for the spherical harmonic function\n",
    "#     a given ell and m.\n",
    "\n",
    "#     Inputs:\n",
    "#     l : (int) ell-value\n",
    "#     m : (int) m-value\n",
    "\n",
    "#     Returns:\n",
    "#     (int) : normalization factor for spherical harmonic function\n",
    "#     \"\"\"\n",
    "#     return np.sqrt((2 * l + 1)/(4 * np.pi) \\\n",
    "#         * ((math.factorial(l - m))/(math.factorial(l + m))))\n",
    "\n",
    "# def ylm(omega, l, m):\n",
    "#     \"\"\"\n",
    "#     The spherical harmonic functions.\n",
    "\n",
    "#     Inputs:\n",
    "#     omega : (var) solid-angle omega\n",
    "#     l : (int) ell-value\n",
    "#     m : (int) m-value\n",
    "\n",
    "#     Returns:\n",
    "#     (func) : spherical harmonic function for a given ell, m input.\n",
    "#     \"\"\""
   ]
  }
 ],
 "metadata": {
  "kernelspec": {
   "display_name": "base",
   "language": "python",
   "name": "python3"
  },
  "language_info": {
   "codemirror_mode": {
    "name": "ipython",
    "version": 3
   },
   "file_extension": ".py",
   "mimetype": "text/x-python",
   "name": "python",
   "nbconvert_exporter": "python",
   "pygments_lexer": "ipython3",
   "version": "3.9.12"
  },
  "orig_nbformat": 4,
  "vscode": {
   "interpreter": {
    "hash": "c71467c1cead1faa151a2e40e8c8dc7122fa70e94f152c28cbbc4540833ad705"
   }
  }
 },
 "nbformat": 4,
 "nbformat_minor": 2
}
