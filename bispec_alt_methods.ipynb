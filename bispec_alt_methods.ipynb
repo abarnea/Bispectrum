{
 "cells": [
  {
   "cell_type": "code",
   "execution_count": 1,
   "metadata": {},
   "outputs": [],
   "source": [
    "%load_ext autoreload\n",
    "%autoreload 2"
   ]
  },
  {
   "cell_type": "code",
   "execution_count": 2,
   "metadata": {},
   "outputs": [],
   "source": [
    "import numpy as np\n",
    "import healpy as hp\n",
    "import scipy\n",
    "from numba import jit, njit, prange, set_num_threads\n",
    "from tqdm.notebook import tqdm\n",
    "from helper_funcs import *"
   ]
  },
  {
   "cell_type": "code",
   "execution_count": 3,
   "metadata": {},
   "outputs": [],
   "source": [
    "def sort_alms(alms, lmax):\n",
    "    '''\n",
    "    Sorts healpix alm's by \\ell instead of m given a fortran90 array output from hp.map2alm.\n",
    "\n",
    "    Parameters\n",
    "    ----------\n",
    "    alms : fortran90 healpix alm array from hp.map2alm\n",
    "    num_ls : number of l's in alms array\n",
    "    \n",
    "    Returns\n",
    "    ----------\n",
    "    sorted_alms : alm dictionary keyed by ell values with numpy arrays consisting of the corresponding m values.\n",
    "    '''\n",
    "    start = 0\n",
    "    sorted_alms = {}\n",
    "\n",
    "    for l in range(lmax):\n",
    "        sorted_alms[l] = np.zeros(2*l+1, dtype=np.cdouble)\n",
    "\n",
    "    for m in range(lmax):\n",
    "        num_ms = lmax - m\n",
    "        ms = alms[start:num_ms + start]\n",
    "        start = num_ms + start\n",
    "        m_sign = (-1)**m\n",
    "        for l in range(num_ms):\n",
    "            idx = m + l\n",
    "            sorted_alms[idx][m] = ms[l]\n",
    "            if m != 0:\n",
    "                sorted_alms[idx][-m] = m_sign * np.conj(ms[l])\n",
    "    \n",
    "    return sorted_alms"
   ]
  },
  {
   "cell_type": "code",
   "execution_count": 4,
   "metadata": {},
   "outputs": [],
   "source": [
    "lmax = 1000\n",
    "ells = np.arange(lmax+1)\n",
    "cls = np.zeros_like(ells, dtype='float')\n",
    "\n",
    "for l in ells[1:]:\n",
    "    cls[l] = (l+0.0)**(-3.)\n",
    "\n",
    "theory_map, alms = hp.sphtfunc.synfast(cls=cls, nside=1024, lmax=lmax, alm=True)"
   ]
  },
  {
   "cell_type": "code",
   "execution_count": 5,
   "metadata": {},
   "outputs": [],
   "source": [
    "sorted_alms = sort_alms(alms, len(cls))"
   ]
  },
  {
   "cell_type": "code",
   "execution_count": 10,
   "metadata": {},
   "outputs": [],
   "source": [
    "def unsort_alms(sorted_alms):\n",
    "    \"\"\"\n",
    "    Unsorts a sorted_alm dictionary from sorted_alms into a Fortran90\n",
    "    array that can be processed by HEALPix.\n",
    "\n",
    "    Inputs:\n",
    "        sorted_alms (dict[ndarray]) : sorted alms from sort_alms\n",
    "\n",
    "    Returns:\n",
    "        (ndarray) : unsorted alms for HEALPix\n",
    "    \"\"\"\n",
    "    ells = np.array(list(sorted_alms.keys()))\n",
    "    lmax = ells[-1]\n",
    "    unsorted_alms = np.zeros(np.sum(ells + 1), dtype=np.complex128)\n",
    "\n",
    "    start = 0\n",
    "    for m in range(lmax + 1):\n",
    "        for ell in range(m, lmax + 1):\n",
    "            unsorted_alms[start + ell] = sorted_alms[ell][m]\n",
    "        start += lmax - m\n",
    "    \n",
    "    return unsorted_alms\n"
   ]
  },
  {
   "cell_type": "code",
   "execution_count": 16,
   "metadata": {},
   "outputs": [],
   "source": [
    "unsorted_alms = unsort_alms(sorted_alms)"
   ]
  },
  {
   "attachments": {},
   "cell_type": "markdown",
   "metadata": {},
   "source": [
    "We divide the $\\ell$-range $\\left[\\ell_{\\min }, \\ell_{\\max }\\right]$ into subintervals denoted by $\\Delta_i=\\left[\\ell_i, \\ell_{i+1}-1\\right]$ where $i=0, \\ldots,\\left(N_{\\text {bins }}-1\\right)$ and $\\ell_{N_{\\text {bins }}}=\\ell_{\\max }+1$, so that the filtered maps are:\n",
    "\n",
    "\\begin{equation*}\n",
    "M_i^p(\\Omega)=\\sum_{\\ell \\in \\Delta_i} \\sum_{m=-\\ell}^{+\\ell} a_{\\ell m}^p Y_{\\ell m}(\\hat{\\Omega}) \\tag{2.5}\n",
    "\\end{equation*}\n",
    "\n",
    "and we use these instead of $M_{\\ell}^p$ in the expression for the bispectrum (2.5). The binned bispectrum is:\n",
    "\n",
    "\\begin{equation*}\n",
    "B_{i_1 i_2 i_3}^{p_1 p_2 p_3, \\mathrm{obs}}=\\frac{1}{\\Xi_{i_1 i_2 i_3}} \\int d \\hat{\\Omega} M_{i_1}^{p_1, \\mathrm{obs}}(\\hat{\\Omega}) M_{i_2}^{p_2, \\mathrm{obs}}(\\hat{\\Omega}) M_{i_3}^{p_3, \\mathrm{obs}}(\\hat{\\Omega}) \\tag{2.6}\n",
    "\\end{equation*}\n",
    "\n",
    "where $\\Xi_{i_1 i_2 i_3}$ is the number of $\\ell$ triplets within the $\\left(i_1, i_2, i_3\\right)$ bin triplet satisfying the triangle inequality and parity condition selection rule. Because of this normalization factor, $B_{i_1 i_2 i_3}^{p_1 p_2 p_3}$ may be considered an average over all valid $B_{\\ell_1 \\ell_2 \\ell_3}^{p_1 p_2 p_3}$ inside the bin triplet."
   ]
  },
  {
   "cell_type": "code",
   "execution_count": 27,
   "metadata": {},
   "outputs": [],
   "source": [
    "def filter_map_binned(sorted_alms, lmin, lmax, nbins):\n",
    "    \"\"\"\n",
    "    Map alms that have been binned and filtered.\n",
    "    \"\"\"\n",
    "    filtered_alms = {}\n",
    "    for ells in range(lmax):\n",
    "        filtered_alms[ells] = np.zeros(2*l+1, dtype=np.cdouble)\n",
    "\n",
    "    i_bins = np.arange(lmin, lmax + 1, nbins)\n",
    "\n",
    "    for ell in i_bins:\n",
    "        filtered_alms[ell] = sorted_alms[ell]\n",
    "        # for m in range(-ell, ell + 1):\n",
    "        #     filtered_alms[ell][m] = sorted_alms[ell][m]\n",
    "    \n",
    "    return filtered_alms"
   ]
  },
  {
   "cell_type": "code",
   "execution_count": 28,
   "metadata": {},
   "outputs": [],
   "source": [
    "filtered_alms = filter_map_binned(sorted_alms, 2, 10, 1)"
   ]
  },
  {
   "cell_type": "code",
   "execution_count": 58,
   "metadata": {},
   "outputs": [],
   "source": [
    "uf_alms = unsort_alms(filtered_alms)"
   ]
  },
  {
   "cell_type": "code",
   "execution_count": 62,
   "metadata": {},
   "outputs": [],
   "source": [
    "uf_map = hp.alm2map(uf_alms, nside=1024)"
   ]
  },
  {
   "cell_type": "code",
   "execution_count": 69,
   "metadata": {},
   "outputs": [],
   "source": [
    "pixarea = get_pix_area(uf_map)"
   ]
  },
  {
   "cell_type": "code",
   "execution_count": 71,
   "metadata": {},
   "outputs": [
    {
     "data": {
      "text/plain": [
       "array([-8.44863413e-08, -8.53155894e-08, -8.54289511e-08, ...,\n",
       "       -3.25285993e-07, -3.25766502e-07, -3.26367384e-07])"
      ]
     },
     "execution_count": 71,
     "metadata": {},
     "output_type": "execute_result"
    }
   ],
   "source": [
    "pixarea * uf_map"
   ]
  },
  {
   "cell_type": "code",
   "execution_count": 7,
   "metadata": {},
   "outputs": [],
   "source": [
    "# @njit(parallel=True)\n",
    "# to speed up, will jit local function to compute bispec within.\n",
    "def compute_binned_bispec(i1, i2, i3, map_i1, map_i2, map_i3, num_threads=16):\n",
    "    \"\"\"\n",
    "    Compute binned bispec\n",
    "\n",
    "    Parameters:\n",
    "    \"\"\"\n",
    "    xi = count_valid_configs(i1, i2, i3, num_threads=num_threads)\n",
    "    assert xi != 0\n",
    "\n",
    "    pixarea_i1, pixarea_i2, pixarea_i3 = get_pix_areas(map_i1, map_i2, map_i3)\n",
    "    msize_i1, msize_i2, msize_i3 = get_map_sizes(map_i1, map_i2, map_i3)\n",
    "\n",
    "    B_i = 0\n",
    "\n",
    "    return 1 / xi * B_i\n"
   ]
  },
  {
   "cell_type": "code",
   "execution_count": 66,
   "metadata": {},
   "outputs": [
    {
     "name": "stdout",
     "output_type": "stream",
     "text": [
      "9.986854087797142e-07\n",
      "12582912\n"
     ]
    }
   ],
   "source": [
    "print(get_pix_area(theory_map))\n",
    "print(hp.get_map_size(theory_map))"
   ]
  },
  {
   "cell_type": "code",
   "execution_count": 68,
   "metadata": {},
   "outputs": [],
   "source": [
    "def get_pix_area(map):\n",
    "    return hp.nside2pixarea(hp.get_nside(map))\n",
    "\n",
    "def get_pix_areas(map1, map2, map3):\n",
    "    return get_pix_area(map1), get_pix_area(map2), get_pix_area(map3)\n",
    "\n",
    "def get_map_sizes(map1, map2, map3):\n",
    "    return hp.get_map_size(map1). hp.get_map_size(map2), hp.get_map_size(map3)"
   ]
  },
  {
   "cell_type": "code",
   "execution_count": 50,
   "metadata": {},
   "outputs": [],
   "source": [
    "@njit(parallel=True)\n",
    "def count_valid_configs(i1, i2, i3, num_threads=16):\n",
    "    \"\"\"\n",
    "    Counts the number of valid ell-triplet configurations in a single bin.\n",
    "    Validity is determined as satisfying the parity condition selection\n",
    "    rule and the triangle inequality.\n",
    "\n",
    "    Inputs:\n",
    "        i1 (int) : bin1\n",
    "        i2 (int) : bin2\n",
    "        i3 (int) : bin3\n",
    "        num_threads (int) : number of threads to parallelize on\n",
    "\n",
    "    Returns:\n",
    "        (int) : number of valid configurations of ell-triplets.\n",
    "    \"\"\"\n",
    "\n",
    "    set_num_threads(num_threads)\n",
    "\n",
    "    configs = 0\n",
    "\n",
    "    for l1 in prange(i1 + 1):\n",
    "        for l2 in range(i2 + 1):\n",
    "            for l3 in range(i3 + 1):\n",
    "                if check_valid_triangle(l1, l2, l3):\n",
    "                    configs += 1\n",
    "    \n",
    "    return configs"
   ]
  },
  {
   "cell_type": "code",
   "execution_count": 55,
   "metadata": {},
   "outputs": [],
   "source": [
    "@njit(parallel=True)\n",
    "def find_valid_configs(i1, i2, i3, num_threads=16):\n",
    "    \"\"\"\n",
    "    Counts the number of valid ell-triplet configurations in a single bin.\n",
    "    Validity is determined as satisfying the parity condition selection\n",
    "    rule and the triangle inequality.\n",
    "\n",
    "    Inputs:\n",
    "        i1 (int) : bin1\n",
    "        i2 (int) : bin2\n",
    "        i3 (int) : bin3\n",
    "        num_threads (int) : number of threads to parallelize on\n",
    "\n",
    "    Returns:\n",
    "        (int) : number of valid configurations of ell-triplets.\n",
    "    \"\"\"\n",
    "\n",
    "    set_num_threads(num_threads)\n",
    "\n",
    "    num_configs = count_valid_configs(i1, i2, i3)\n",
    "    valid_configs = np.zeros(num_configs)\n",
    "\n",
    "    i = 0\n",
    "    for l1 in prange(i1 + 1):\n",
    "        for l2 in range(i2 + 1):\n",
    "            for l3 in range(i3 + 1):\n",
    "                if check_valid_triangle(l1, l2, l3):\n",
    "                    valid_configs[i] = (l1, l2, l3)\n",
    "                    i += 1\n",
    "\n",
    "    return valid_configs"
   ]
  },
  {
   "cell_type": "code",
   "execution_count": 56,
   "metadata": {},
   "outputs": [
    {
     "ename": "TypingError",
     "evalue": "Failed in nopython mode pipeline (step: nopython frontend)\nNo implementation of function Function(<built-in function setitem>) found for signature:\n \n >>> setitem(array(float64, 1d, C), int64, UniTuple(int64 x 3))\n \nThere are 16 candidate implementations:\n      - Of which 16 did not match due to:\n      Overload of function 'setitem': File: <numerous>: Line N/A.\n        With argument(s): '(array(float64, 1d, C), int64, UniTuple(int64 x 3))':\n       No match.\n\nDuring: typing of setitem at /tmp/ipykernel_53247/1994168875.py (28)\n\nFile \"../../../../../../tmp/ipykernel_53247/1994168875.py\", line 28:\n<source missing, REPL/exec in use?>\n",
     "output_type": "error",
     "traceback": [
      "\u001b[0;31m---------------------------------------------------------------------------\u001b[0m",
      "\u001b[0;31mTypingError\u001b[0m                               Traceback (most recent call last)",
      "\u001b[1;32m/data/a/cpac/abarnea/Bispectra/Bispectrum/bispec_alt_methods.ipynb Cell 16\u001b[0m in \u001b[0;36m<cell line: 1>\u001b[0;34m()\u001b[0m\n\u001b[0;32m----> <a href='vscode-notebook-cell://ssh-remote%2Broomba/data/a/cpac/abarnea/Bispectra/Bispectrum/bispec_alt_methods.ipynb#X22sdnNjb2RlLXJlbW90ZQ%3D%3D?line=0'>1</a>\u001b[0m configs \u001b[39m=\u001b[39m find_valid_configs(\u001b[39m100\u001b[39;49m, \u001b[39m100\u001b[39;49m, \u001b[39m100\u001b[39;49m)\n",
      "File \u001b[0;32m~/miniconda3/lib/python3.9/site-packages/numba/core/dispatcher.py:468\u001b[0m, in \u001b[0;36m_DispatcherBase._compile_for_args\u001b[0;34m(self, *args, **kws)\u001b[0m\n\u001b[1;32m    464\u001b[0m         msg \u001b[39m=\u001b[39m (\u001b[39mf\u001b[39m\u001b[39m\"\u001b[39m\u001b[39m{\u001b[39;00m\u001b[39mstr\u001b[39m(e)\u001b[39m.\u001b[39mrstrip()\u001b[39m}\u001b[39;00m\u001b[39m \u001b[39m\u001b[39m\\n\u001b[39;00m\u001b[39m\\n\u001b[39;00m\u001b[39mThis error may have been caused \u001b[39m\u001b[39m\"\u001b[39m\n\u001b[1;32m    465\u001b[0m                \u001b[39mf\u001b[39m\u001b[39m\"\u001b[39m\u001b[39mby the following argument(s):\u001b[39m\u001b[39m\\n\u001b[39;00m\u001b[39m{\u001b[39;00margs_str\u001b[39m}\u001b[39;00m\u001b[39m\\n\u001b[39;00m\u001b[39m\"\u001b[39m)\n\u001b[1;32m    466\u001b[0m         e\u001b[39m.\u001b[39mpatch_message(msg)\n\u001b[0;32m--> 468\u001b[0m     error_rewrite(e, \u001b[39m'\u001b[39;49m\u001b[39mtyping\u001b[39;49m\u001b[39m'\u001b[39;49m)\n\u001b[1;32m    469\u001b[0m \u001b[39mexcept\u001b[39;00m errors\u001b[39m.\u001b[39mUnsupportedError \u001b[39mas\u001b[39;00m e:\n\u001b[1;32m    470\u001b[0m     \u001b[39m# Something unsupported is present in the user code, add help info\u001b[39;00m\n\u001b[1;32m    471\u001b[0m     error_rewrite(e, \u001b[39m'\u001b[39m\u001b[39munsupported_error\u001b[39m\u001b[39m'\u001b[39m)\n",
      "File \u001b[0;32m~/miniconda3/lib/python3.9/site-packages/numba/core/dispatcher.py:409\u001b[0m, in \u001b[0;36m_DispatcherBase._compile_for_args.<locals>.error_rewrite\u001b[0;34m(e, issue_type)\u001b[0m\n\u001b[1;32m    407\u001b[0m     \u001b[39mraise\u001b[39;00m e\n\u001b[1;32m    408\u001b[0m \u001b[39melse\u001b[39;00m:\n\u001b[0;32m--> 409\u001b[0m     \u001b[39mraise\u001b[39;00m e\u001b[39m.\u001b[39mwith_traceback(\u001b[39mNone\u001b[39;00m)\n",
      "\u001b[0;31mTypingError\u001b[0m: Failed in nopython mode pipeline (step: nopython frontend)\nNo implementation of function Function(<built-in function setitem>) found for signature:\n \n >>> setitem(array(float64, 1d, C), int64, UniTuple(int64 x 3))\n \nThere are 16 candidate implementations:\n      - Of which 16 did not match due to:\n      Overload of function 'setitem': File: <numerous>: Line N/A.\n        With argument(s): '(array(float64, 1d, C), int64, UniTuple(int64 x 3))':\n       No match.\n\nDuring: typing of setitem at /tmp/ipykernel_53247/1994168875.py (28)\n\nFile \"../../../../../../tmp/ipykernel_53247/1994168875.py\", line 28:\n<source missing, REPL/exec in use?>\n"
     ]
    }
   ],
   "source": [
    "configs = find_valid_configs(100, 100, 100)"
   ]
  },
  {
   "cell_type": "code",
   "execution_count": 31,
   "metadata": {},
   "outputs": [],
   "source": [
    "@njit\n",
    "def check_valid_triangle(l1, l2, l3):\n",
    "    \"\"\"\n",
    "    Checks if a set of l1, l2, l3's form a valid triangle, which can be\n",
    "    confirmed if the l's satisfy the following three metrics:\n",
    "    1. bispectrum is symmetric under any l1, l2, l3 permutations\n",
    "    2. even parity selection rule\n",
    "    3. triangle inequality\n",
    "\n",
    "    Inputs:\n",
    "        l1 (int) : l1\n",
    "        l2 (int) : l2\n",
    "        l3 (int) : l3\n",
    "    \n",
    "    Returns:\n",
    "        (bool) : returns True if triangle is valid, False otherwise\n",
    "    \"\"\"\n",
    "    permutations = l1 <= l2 <= l3\n",
    "    even_parity = (l1 + l2 + l3) % 2 == 0\n",
    "    tri_inequality = np.abs(l1 - l2) <= l3 <= l1 + l2\n",
    "\n",
    "    return permutations and even_parity and tri_inequality\n"
   ]
  },
  {
   "cell_type": "code",
   "execution_count": 39,
   "metadata": {},
   "outputs": [],
   "source": [
    "# def P(l, m, x):\n",
    "# \tpmm = 1.0\n",
    "# \tif m > 0:\n",
    "# \t\tsomx2 = np.sqrt((1.0 - x) * (1.0 + x))\n",
    "# \t\tfact = 1.0\n",
    "# \t\tfor i in range(1, m + 1):\n",
    "# \t\t\tpmm *= (-fact) * somx2\n",
    "# \t\t\tfact += 2.0\n",
    "\t\n",
    "# \tif l == m:\n",
    "# \t\treturn pmm * np.ones(x.shape)\n",
    "\t\n",
    "# \tpmmp1 = x * (2.0*m+1.0) * pmm\n",
    "\t\n",
    "# \tif l == m + 1:\n",
    "# \t\treturn pmmp1\n",
    "\t\n",
    "# \tpll = np.zeros(x.shape)\n",
    "# \tfor ll in range(m + 2, l + 1):\n",
    "# \t\tpll = ((2.0 * ll - 1.0) * x * pmmp1 - (ll + m - 1.0) * pmm) / (ll - m)\n",
    "# \t\tpmm = pmmp1\n",
    "# \t\tpmmp1 = pll\n",
    "\t\n",
    "# \treturn pll"
   ]
  },
  {
   "cell_type": "code",
   "execution_count": null,
   "metadata": {},
   "outputs": [],
   "source": [
    "# def ylm_norm_factor(l, m):\n",
    "#     \"\"\"\n",
    "#     Finds the normalization factor for the spherical harmonic function\n",
    "#     a given ell and m.\n",
    "\n",
    "#     Inputs:\n",
    "#     l : (int) ell-value\n",
    "#     m : (int) m-value\n",
    "\n",
    "#     Returns:\n",
    "#     (int) : normalization factor for spherical harmonic function\n",
    "#     \"\"\"\n",
    "#     return np.sqrt((2 * l + 1)/(4 * np.pi) \\\n",
    "#         * ((math.factorial(l - m))/(math.factorial(l + m))))\n",
    "\n",
    "# def ylm(omega, l, m):\n",
    "#     \"\"\"\n",
    "#     The spherical harmonic functions.\n",
    "\n",
    "#     Inputs:\n",
    "#     omega : (var) solid-angle omega\n",
    "#     l : (int) ell-value\n",
    "#     m : (int) m-value\n",
    "\n",
    "#     Returns:\n",
    "#     (func) : spherical harmonic function for a given ell, m input.\n",
    "#     \"\"\""
   ]
  }
 ],
 "metadata": {
  "kernelspec": {
   "display_name": "base",
   "language": "python",
   "name": "python3"
  },
  "language_info": {
   "codemirror_mode": {
    "name": "ipython",
    "version": 3
   },
   "file_extension": ".py",
   "mimetype": "text/x-python",
   "name": "python",
   "nbconvert_exporter": "python",
   "pygments_lexer": "ipython3",
   "version": "3.9.12"
  },
  "orig_nbformat": 4,
  "vscode": {
   "interpreter": {
    "hash": "c71467c1cead1faa151a2e40e8c8dc7122fa70e94f152c28cbbc4540833ad705"
   }
  }
 },
 "nbformat": 4,
 "nbformat_minor": 2
}
