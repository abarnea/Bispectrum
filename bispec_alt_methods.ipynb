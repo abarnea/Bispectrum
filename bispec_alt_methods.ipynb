{
 "cells": [
  {
   "cell_type": "code",
   "execution_count": 2,
   "metadata": {},
   "outputs": [],
   "source": [
    "%load_ext autoreload\n",
    "%autoreload 2"
   ]
  },
  {
   "cell_type": "code",
   "execution_count": 3,
   "metadata": {},
   "outputs": [],
   "source": [
    "import numpy as np\n",
    "import healpy as hp\n",
    "import scipy\n",
    "from numba import jit, njit, prange, set_num_threads\n",
    "from tqdm.notebook import tqdm\n",
    "from helper_funcs import *"
   ]
  },
  {
   "cell_type": "code",
   "execution_count": 4,
   "metadata": {},
   "outputs": [],
   "source": [
    "def sort_alms(alms, lmax):\n",
    "    '''\n",
    "    Sorts healpix alm's by \\ell instead of m given a fortran90 array output from hp.map2alm.\n",
    "\n",
    "    Parameters\n",
    "    ----------\n",
    "    alms : fortran90 healpix alm array from hp.map2alm\n",
    "    num_ls : number of l's in alms array\n",
    "    \n",
    "    Returns\n",
    "    ----------\n",
    "    sorted_alms : alm dictionary keyed by ell values with numpy arrays consisting of the corresponding m values.\n",
    "    '''\n",
    "    start = 0\n",
    "    sorted_alms = {}\n",
    "\n",
    "    for l in range(lmax):\n",
    "        sorted_alms[l] = np.zeros(2*l+1, dtype=np.cdouble)\n",
    "\n",
    "    for m in range(lmax):\n",
    "        num_ms = lmax - m\n",
    "        ms = alms[start:num_ms + start]\n",
    "        start = num_ms + start\n",
    "        m_sign = (-1)**m\n",
    "        for l in range(num_ms):\n",
    "            idx = m + l\n",
    "            sorted_alms[idx][m] = ms[l]\n",
    "            if m != 0:\n",
    "                sorted_alms[idx][-m] = m_sign * np.conj(ms[l])\n",
    "    \n",
    "    return sorted_alms"
   ]
  },
  {
   "cell_type": "code",
   "execution_count": 5,
   "metadata": {},
   "outputs": [],
   "source": [
    "lmax = 1000\n",
    "ells = np.arange(lmax+1)\n",
    "cls = np.zeros_like(ells, dtype='float')\n",
    "\n",
    "for l in ells[1:]:\n",
    "    cls[l] = (l+0.0)**(-3.)\n",
    "\n",
    "theory_map, unsorted_alms = hp.sphtfunc.synfast(cls=cls, nside=1024, lmax=lmax, alm=True)"
   ]
  },
  {
   "cell_type": "code",
   "execution_count": 6,
   "metadata": {},
   "outputs": [],
   "source": [
    "sorted_alms = sort_alms(unsorted_alms, len(cls))"
   ]
  },
  {
   "cell_type": "code",
   "execution_count": 171,
   "metadata": {},
   "outputs": [],
   "source": [
    "def unsort_alms(sorted_alms):\n",
    "    \"\"\"\n",
    "    Unsorts a sorted_alm dictionary from sorted_alms into a Fortran90\n",
    "    array that can be processed by HEALPix.\n",
    "\n",
    "    Inputs:\n",
    "    sorted_alms (dict[ndarray]) : sorted alms from sort_alms\n",
    "\n",
    "    Returns:\n",
    "    (ndarray) : unsorted alms for HEALPix\n",
    "    \"\"\"\n",
    "    lmax = max(sorted_alms.keys())\n",
    "    unsorted_alms = np.zeros(np.sum(2 * np.arange(0, lmax + 1) + 1), dtype=np.complex128)\n",
    "\n",
    "    start = 0\n",
    "    for m in range(lmax + 1):\n",
    "        for ell in range(m, lmax + 1):\n",
    "            unsorted_alms[start + ell + m] = sorted_alms[ell][m]\n",
    "        start += lmax\n",
    "    \n",
    "    return unsorted_alms\n"
   ]
  },
  {
   "cell_type": "code",
   "execution_count": 172,
   "metadata": {},
   "outputs": [],
   "source": [
    "test = unsort_alms(sorted_alms)"
   ]
  },
  {
   "cell_type": "code",
   "execution_count": 200,
   "metadata": {},
   "outputs": [
    {
     "name": "stdout",
     "output_type": "stream",
     "text": [
      "(-0.06867491506315603-0.11835288965775595j)\n"
     ]
    }
   ],
   "source": [
    "print(sorted_alms[3][5])"
   ]
  },
  {
   "cell_type": "code",
   "execution_count": 180,
   "metadata": {},
   "outputs": [
    {
     "name": "stdout",
     "output_type": "stream",
     "text": [
      "(0.008047815896582818-0.06274007698141973j)\n",
      "(0.03624870027048562-0.08102201438388737j)\n"
     ]
    }
   ],
   "source": [
    "val = 1004\n",
    "print(unsorted_alms[val])\n",
    "print(test[val])"
   ]
  },
  {
   "attachments": {},
   "cell_type": "markdown",
   "metadata": {},
   "source": [
    "We divide the $\\ell$-range $\\left[\\ell_{\\min }, \\ell_{\\max }\\right]$ into subintervals denoted by $\\Delta_i=\\left[\\ell_i, \\ell_{i+1}-1\\right]$ where $i=0, \\ldots,\\left(N_{\\text {bins }}-1\\right)$ and $\\ell_{N_{\\text {bins }}}=\\ell_{\\max }+1$, so that the filtered maps are:\n",
    "\n",
    "\\begin{equation*}\n",
    "M_i^p(\\Omega)=\\sum_{\\ell \\in \\Delta_i} \\sum_{m=-\\ell}^{+\\ell} a_{\\ell m}^p Y_{\\ell m}(\\hat{\\Omega}) \\tag{2.5}\n",
    "\\end{equation*}\n",
    "\n",
    "and we use these instead of $M_{\\ell}^p$ in the expression for the bispectrum (2.5). The binned bispectrum is:\n",
    "\n",
    "\\begin{equation*}\n",
    "B_{i_1 i_2 i_3}^{p_1 p_2 p_3, \\mathrm{obs}}=\\frac{1}{\\Xi_{i_1 i_2 i_3}} \\int d \\hat{\\Omega} M_{i_1}^{p_1, \\mathrm{obs}}(\\hat{\\Omega}) M_{i_2}^{p_2, \\mathrm{obs}}(\\hat{\\Omega}) M_{i_3}^{p_3, \\mathrm{obs}}(\\hat{\\Omega}) \\tag{2.6}\n",
    "\\end{equation*}\n",
    "\n",
    "where $\\Xi_{i_1 i_2 i_3}$ is the number of $\\ell$ triplets within the $\\left(i_1, i_2, i_3\\right)$ bin triplet satisfying the triangle inequality and parity condition selection rule. Because of this normalization factor, $B_{i_1 i_2 i_3}^{p_1 p_2 p_3}$ may be considered an average over all valid $B_{\\ell_1 \\ell_2 \\ell_3}^{p_1 p_2 p_3}$ inside the bin triplet."
   ]
  },
  {
   "cell_type": "code",
   "execution_count": 17,
   "metadata": {},
   "outputs": [],
   "source": [
    "test = np.zeros_like(alms)"
   ]
  },
  {
   "cell_type": "code",
   "execution_count": 9,
   "metadata": {},
   "outputs": [
    {
     "ename": "TypeError",
     "evalue": "alm2map() missing 2 required positional arguments: 'alms' and 'nside'",
     "output_type": "error",
     "traceback": [
      "\u001b[0;31m---------------------------------------------------------------------------\u001b[0m",
      "\u001b[0;31mTypeError\u001b[0m                                 Traceback (most recent call last)",
      "\u001b[1;32m/data/a/cpac/abarnea/Bispectra/Bispectrum/bispec_alt_methods.ipynb Cell 5\u001b[0m in \u001b[0;36m<cell line: 5>\u001b[0;34m()\u001b[0m\n\u001b[1;32m      <a href='vscode-notebook-cell://ssh-remote%2Broomba/data/a/cpac/abarnea/Bispectra/Bispectrum/bispec_alt_methods.ipynb#W4sdnNjb2RlLXJlbW90ZQ%3D%3D?line=0'>1</a>\u001b[0m lmin, lmax \u001b[39m=\u001b[39m \u001b[39m2\u001b[39m, \u001b[39m10\u001b[39m\n\u001b[1;32m      <a href='vscode-notebook-cell://ssh-remote%2Broomba/data/a/cpac/abarnea/Bispectra/Bispectrum/bispec_alt_methods.ipynb#W4sdnNjb2RlLXJlbW90ZQ%3D%3D?line=2'>3</a>\u001b[0m ibin \u001b[39m=\u001b[39m np\u001b[39m.\u001b[39marange(lmin, lmax \u001b[39m+\u001b[39m \u001b[39m1\u001b[39m)\n\u001b[0;32m----> <a href='vscode-notebook-cell://ssh-remote%2Broomba/data/a/cpac/abarnea/Bispectra/Bispectrum/bispec_alt_methods.ipynb#W4sdnNjb2RlLXJlbW90ZQ%3D%3D?line=4'>5</a>\u001b[0m hp\u001b[39m.\u001b[39;49malm2map()\n",
      "File \u001b[0;32m~/miniconda3/lib/python3.9/site-packages/astropy/utils/decorators.py:546\u001b[0m, in \u001b[0;36mdeprecated_renamed_argument.<locals>.decorator.<locals>.wrapper\u001b[0;34m(*args, **kwargs)\u001b[0m\n\u001b[1;32m    543\u001b[0m             msg \u001b[39m+\u001b[39m\u001b[39m=\u001b[39m \u001b[39mf\u001b[39m\u001b[39m'\u001b[39m\u001b[39m\\n\u001b[39;00m\u001b[39m        Use \u001b[39m\u001b[39m{\u001b[39;00malternative\u001b[39m}\u001b[39;00m\u001b[39m instead.\u001b[39m\u001b[39m'\u001b[39m\n\u001b[1;32m    544\u001b[0m         warnings\u001b[39m.\u001b[39mwarn(msg, warning_type, stacklevel\u001b[39m=\u001b[39m\u001b[39m2\u001b[39m)\n\u001b[0;32m--> 546\u001b[0m \u001b[39mreturn\u001b[39;00m function(\u001b[39m*\u001b[39;49margs, \u001b[39m*\u001b[39;49m\u001b[39m*\u001b[39;49mkwargs)\n",
      "\u001b[0;31mTypeError\u001b[0m: alm2map() missing 2 required positional arguments: 'alms' and 'nside'"
     ]
    }
   ],
   "source": [
    "lmin, lmax = 2, 10\n",
    "\n",
    "ibin = np.arange(lmin, lmax + 1)\n",
    "\n",
    "filtered_alms = np.zeros_like(alms)\n",
    "\n",
    "for l in ibin:\n",
    "    for m in range(-l, l + 1):\n",
    "        filtered_alms"
   ]
  },
  {
   "cell_type": "code",
   "execution_count": 98,
   "metadata": {},
   "outputs": [],
   "source": [
    "@njit(parallel=True)\n",
    "def count_valid_configs(i1, i2, i3, num_threads=16):\n",
    "    \"\"\"\n",
    "    Counts the number of valid ell-triplet configurations in a single bin.\n",
    "    Validity is determined as satisfying the parity condition selection\n",
    "    rule and the triangle inequality.\n",
    "\n",
    "    Inputs:\n",
    "    i1 (int) : bin1\n",
    "    i2 (int) : bin2\n",
    "    i3 (int) : bin3\n",
    "    num_threads (int) : number of threads to parallelize on\n",
    "\n",
    "    Returns:\n",
    "    (int) : number of valid configurations of ell-triplets.\n",
    "    \"\"\"\n",
    "\n",
    "    set_num_threads(num_threads)\n",
    "\n",
    "    configs = 0\n",
    "\n",
    "    for l1 in prange(i1 + 1):\n",
    "        for l2 in range(i2 + 1):\n",
    "            for l3 in range(i3 + 1):\n",
    "                if check_valid_triangle(l1, l2, l3):\n",
    "                    configs += 1\n",
    "    \n",
    "    return configs"
   ]
  },
  {
   "cell_type": "code",
   "execution_count": 96,
   "metadata": {},
   "outputs": [
    {
     "data": {
      "text/plain": [
       "45526"
      ]
     },
     "execution_count": 96,
     "metadata": {},
     "output_type": "execute_result"
    }
   ],
   "source": [
    "count_valid_configs(100, 100, 100)"
   ]
  },
  {
   "cell_type": "code",
   "execution_count": 94,
   "metadata": {},
   "outputs": [],
   "source": [
    "@njit\n",
    "def check_valid_triangle(l1, l2, l3):\n",
    "    \"\"\"\n",
    "    Checks if a set of l1, l2, l3's form a valid triangle, which can be\n",
    "    confirmed if the l's satisfy the following three metrics:\n",
    "    1. bispectrum is symmetric under any l1, l2, l3 permutations\n",
    "    2. even parity selection rule\n",
    "    3. triangle inequality\n",
    "\n",
    "    Inputs:\n",
    "    l1 (int) : l1\n",
    "    l2 (int) : l2\n",
    "    l3 (int) : l3\n",
    "    \n",
    "    Returns:\n",
    "    (bool) : returns True if triangle is valid, False otherwise\n",
    "    \"\"\"\n",
    "    permutations = l1 <= l2 <= l3\n",
    "    even_parity = (l1 + l2 + l3) % 2 == 0\n",
    "    tri_inequality = np.abs(l1 - l2) <= l3 <= l1 + l2\n",
    "\n",
    "    return permutations and even_parity and tri_inequality\n"
   ]
  },
  {
   "cell_type": "code",
   "execution_count": 39,
   "metadata": {},
   "outputs": [],
   "source": [
    "# def P(l, m, x):\n",
    "# \tpmm = 1.0\n",
    "# \tif m > 0:\n",
    "# \t\tsomx2 = np.sqrt((1.0 - x) * (1.0 + x))\n",
    "# \t\tfact = 1.0\n",
    "# \t\tfor i in range(1, m + 1):\n",
    "# \t\t\tpmm *= (-fact) * somx2\n",
    "# \t\t\tfact += 2.0\n",
    "\t\n",
    "# \tif l == m:\n",
    "# \t\treturn pmm * np.ones(x.shape)\n",
    "\t\n",
    "# \tpmmp1 = x * (2.0*m+1.0) * pmm\n",
    "\t\n",
    "# \tif l == m + 1:\n",
    "# \t\treturn pmmp1\n",
    "\t\n",
    "# \tpll = np.zeros(x.shape)\n",
    "# \tfor ll in range(m + 2, l + 1):\n",
    "# \t\tpll = ((2.0 * ll - 1.0) * x * pmmp1 - (ll + m - 1.0) * pmm) / (ll - m)\n",
    "# \t\tpmm = pmmp1\n",
    "# \t\tpmmp1 = pll\n",
    "\t\n",
    "# \treturn pll"
   ]
  },
  {
   "cell_type": "code",
   "execution_count": null,
   "metadata": {},
   "outputs": [],
   "source": [
    "# def ylm_norm_factor(l, m):\n",
    "#     \"\"\"\n",
    "#     Finds the normalization factor for the spherical harmonic function\n",
    "#     a given ell and m.\n",
    "\n",
    "#     Inputs:\n",
    "#     l : (int) ell-value\n",
    "#     m : (int) m-value\n",
    "\n",
    "#     Returns:\n",
    "#     (int) : normalization factor for spherical harmonic function\n",
    "#     \"\"\"\n",
    "#     return np.sqrt((2 * l + 1)/(4 * np.pi) \\\n",
    "#         * ((math.factorial(l - m))/(math.factorial(l + m))))\n",
    "\n",
    "# def ylm(omega, l, m):\n",
    "#     \"\"\"\n",
    "#     The spherical harmonic functions.\n",
    "\n",
    "#     Inputs:\n",
    "#     omega : (var) solid-angle omega\n",
    "#     l : (int) ell-value\n",
    "#     m : (int) m-value\n",
    "\n",
    "#     Returns:\n",
    "#     (func) : spherical harmonic function for a given ell, m input.\n",
    "#     \"\"\""
   ]
  }
 ],
 "metadata": {
  "kernelspec": {
   "display_name": "base",
   "language": "python",
   "name": "python3"
  },
  "language_info": {
   "codemirror_mode": {
    "name": "ipython",
    "version": 3
   },
   "file_extension": ".py",
   "mimetype": "text/x-python",
   "name": "python",
   "nbconvert_exporter": "python",
   "pygments_lexer": "ipython3",
   "version": "3.9.12"
  },
  "orig_nbformat": 4,
  "vscode": {
   "interpreter": {
    "hash": "c71467c1cead1faa151a2e40e8c8dc7122fa70e94f152c28cbbc4540833ad705"
   }
  }
 },
 "nbformat": 4,
 "nbformat_minor": 2
}
