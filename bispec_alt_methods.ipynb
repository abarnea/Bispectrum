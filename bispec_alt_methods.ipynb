{
 "cells": [
  {
   "cell_type": "code",
   "execution_count": 1,
   "metadata": {},
   "outputs": [],
   "source": [
    "%load_ext autoreload\n",
    "%autoreload 2"
   ]
  },
  {
   "cell_type": "code",
   "execution_count": 2,
   "metadata": {},
   "outputs": [],
   "source": [
    "import numpy as np\n",
    "import healpy as hp\n",
    "import scipy\n",
    "from numba import jit, njit, prange, set_num_threads\n",
    "from tqdm.notebook import tqdm\n",
    "from helper_funcs import *"
   ]
  },
  {
   "attachments": {},
   "cell_type": "markdown",
   "metadata": {},
   "source": [
    "## Map Method"
   ]
  },
  {
   "cell_type": "code",
   "execution_count": 3,
   "metadata": {},
   "outputs": [],
   "source": [
    "def sort_alms(alms, lmax):\n",
    "    '''\n",
    "    Sorts healpix alm's by \\ell instead of m given a fortran90 array output from hp.map2alm.\n",
    "\n",
    "    Parameters\n",
    "    ----------\n",
    "    alms : fortran90 healpix alm array from hp.map2alm\n",
    "    num_ls : number of l's in alms array\n",
    "    \n",
    "    Returns\n",
    "    ----------\n",
    "    sorted_alms : alm dictionary keyed by ell values with numpy arrays consisting of the corresponding m values.\n",
    "    '''\n",
    "    start = 0\n",
    "    sorted_alms = {}\n",
    "\n",
    "    for l in range(lmax + 1):\n",
    "        sorted_alms[l] = np.zeros(2*l+1, dtype=np.cdouble)\n",
    "\n",
    "    for m in range(lmax + 1):\n",
    "        num_ms = lmax + 1 - m\n",
    "        ms = alms[start:num_ms + start]\n",
    "        start = num_ms + start\n",
    "        m_sign = (-1)**m\n",
    "        for l in range(num_ms):\n",
    "            idx = m + l\n",
    "            sorted_alms[idx][m] = ms[l]\n",
    "            if m != 0:\n",
    "                sorted_alms[idx][-m] = m_sign * np.conj(ms[l])\n",
    "    \n",
    "    return sorted_alms"
   ]
  },
  {
   "cell_type": "code",
   "execution_count": 4,
   "metadata": {},
   "outputs": [],
   "source": [
    "lmax = 1000\n",
    "ells = np.arange(lmax+1)\n",
    "cls = np.zeros_like(ells, dtype='float')\n",
    "\n",
    "for l in ells[1:]:\n",
    "    cls[l] = (l+0.0)**(-3.)\n",
    "\n",
    "theory_map, alms = hp.sphtfunc.synfast(cls=cls, nside=1024, lmax=lmax, alm=True)"
   ]
  },
  {
   "cell_type": "code",
   "execution_count": 5,
   "metadata": {},
   "outputs": [],
   "source": [
    "sorted_alms = sort_alms(alms, lmax)"
   ]
  },
  {
   "cell_type": "code",
   "execution_count": 6,
   "metadata": {},
   "outputs": [],
   "source": [
    "def unsort_alms(sorted_alms):\n",
    "    \"\"\"\n",
    "    Unsorts a sorted_alm dictionary from sorted_alms into a Fortran90\n",
    "    array that can be processed by HEALPix.\n",
    "\n",
    "    Inputs:\n",
    "        sorted_alms (dict[ndarray]) : sorted alms from sort_alms\n",
    "\n",
    "    Returns:\n",
    "        (ndarray) : unsorted alms for HEALPix\n",
    "    \"\"\"\n",
    "    ells = np.array(list(sorted_alms.keys()))\n",
    "    lmax = ells[-1]\n",
    "    unsorted_alms = np.zeros(np.sum(ells + 1), dtype=np.complex128)\n",
    "\n",
    "    start = 0\n",
    "    for m in range(lmax + 1):\n",
    "        for ell in range(m, lmax + 1):\n",
    "            unsorted_alms[start + ell] = sorted_alms[ell][m]\n",
    "        start += lmax - m\n",
    "    \n",
    "    return unsorted_alms\n"
   ]
  },
  {
   "cell_type": "code",
   "execution_count": 7,
   "metadata": {},
   "outputs": [],
   "source": [
    "unsorted_alms = unsort_alms(sorted_alms)"
   ]
  },
  {
   "cell_type": "code",
   "execution_count": 8,
   "metadata": {},
   "outputs": [
    {
     "data": {
      "text/plain": [
       "True"
      ]
     },
     "execution_count": 8,
     "metadata": {},
     "output_type": "execute_result"
    }
   ],
   "source": [
    "(unsorted_alms == alms).all()"
   ]
  },
  {
   "attachments": {},
   "cell_type": "markdown",
   "metadata": {},
   "source": [
    "We divide the $\\ell$-range $\\left[\\ell_{\\min }, \\ell_{\\max }\\right]$ into subintervals denoted by $\\Delta_i=\\left[\\ell_i, \\ell_{i+1}-1\\right]$ where $i=0, \\ldots,\\left(N_{\\text {bins }}-1\\right)$ and $\\ell_{N_{\\text {bins }}}=\\ell_{\\max }+1$, so that the filtered maps are:\n",
    "\n",
    "\\begin{equation*}\n",
    "M_i^p(\\Omega)=\\sum_{\\ell \\in \\Delta_i} \\sum_{m=-\\ell}^{+\\ell} a_{\\ell m}^p Y_{\\ell m}(\\hat{\\Omega}) \\tag{2.5}\n",
    "\\end{equation*}\n",
    "\n",
    "and we use these instead of $M_{\\ell}^p$ in the expression for the bispectrum (2.5). The binned bispectrum is:\n",
    "\n",
    "\\begin{equation*}\n",
    "B_{i_1 i_2 i_3}^{p_1 p_2 p_3, \\mathrm{obs}}=\\frac{1}{\\Xi_{i_1 i_2 i_3}} \\int d \\hat{\\Omega} M_{i_1}^{p_1, \\mathrm{obs}}(\\hat{\\Omega}) M_{i_2}^{p_2, \\mathrm{obs}}(\\hat{\\Omega}) M_{i_3}^{p_3, \\mathrm{obs}}(\\hat{\\Omega}) \\tag{2.6}\n",
    "\\end{equation*}\n",
    "\n",
    "where $\\Xi_{i_1 i_2 i_3}$ is the number of $\\ell$ triplets within the $\\left(i_1, i_2, i_3\\right)$ bin triplet satisfying the triangle inequality and parity condition selection rule."
   ]
  },
  {
   "cell_type": "code",
   "execution_count": 9,
   "metadata": {},
   "outputs": [],
   "source": [
    "@njit\n",
    "def check_valid_triangle(l1, l2, l3):\n",
    "    \"\"\"\n",
    "    Checks if a set of l1, l2, l3's form a valid triangle, which can be\n",
    "    confirmed if the l's satisfy the following three metrics:\n",
    "    1. bispectrum is symmetric under any l1, l2, l3 permutations\n",
    "    2. even parity selection rule\n",
    "    3. triangle inequality\n",
    "\n",
    "    Inputs:\n",
    "        l1 (int) : l1\n",
    "        l2 (int) : l2\n",
    "        l3 (int) : l3\n",
    "    \n",
    "    Returns:\n",
    "        (bool) : returns True if triangle is valid, False otherwise\n",
    "    \"\"\"\n",
    "    permutations = l1 <= l2 <= l3\n",
    "    even_parity = (l1 + l2 + l3) % 2 == 0\n",
    "    tri_inequality = np.abs(l1 - l2) <= l3 <= l1 + l2\n",
    "\n",
    "    return permutations and even_parity and tri_inequality\n"
   ]
  },
  {
   "cell_type": "code",
   "execution_count": 30,
   "metadata": {},
   "outputs": [],
   "source": [
    "@njit(parallel=True)\n",
    "def count_valid_configs(i1, i2, i3, num_threads=16):\n",
    "    \"\"\"\n",
    "    Counts the number of valid ell-triplet configurations in a single bin.\n",
    "    Validity is determined as satisfying the parity condition selection\n",
    "    rule and the triangle inequality.\n",
    "\n",
    "    Inputs:\n",
    "        i1 (int) : bin1\n",
    "        i2 (int) : bin2\n",
    "        i3 (int) : bin3\n",
    "        num_threads (int) : number of threads to parallelize on\n",
    "\n",
    "    Returns:\n",
    "        (int) : number of valid configurations of ell-triplets.\n",
    "    \"\"\"\n",
    "\n",
    "    set_num_threads(num_threads)\n",
    "\n",
    "    configs = 0\n",
    "\n",
    "    for l1 in i1:\n",
    "        for l2 in i2:\n",
    "            for l3 in i3:\n",
    "                if check_valid_triangle(l1, l2, l3):\n",
    "                    configs += 1\n",
    "    \n",
    "    return configs"
   ]
  },
  {
   "cell_type": "code",
   "execution_count": 11,
   "metadata": {},
   "outputs": [],
   "source": [
    "def filter_map_binned(sorted_alms, i_bins, nside=1024):\n",
    "    \"\"\"\n",
    "    Map alms that have been binned and filtered.\n",
    "\n",
    "    Inputs:\n",
    "        sorted_alms (dict) : dictionary of sorted alms\n",
    "        lmin (int) : lmin\n",
    "        lmax (int) : lmax\n",
    "        nbins (int) : number of bins\n",
    "    \n",
    "    Returns:\n",
    "        (ndarray) : healpix map of filtered alms\n",
    "    \"\"\"\n",
    "    lmax = max(sorted_alms.keys())\n",
    "    filtered_alms = {}\n",
    "    for ell in range(lmax + 1):\n",
    "        filtered_alms[ell] = np.zeros(2 * ell + 1, dtype=np.cdouble)\n",
    "\n",
    "    for ell in i_bins:\n",
    "        filtered_alms[ell] = sorted_alms[ell]\n",
    "        # for m in range(-ell, ell + 1):\n",
    "        #     filtered_alms[ell][m] = sorted_alms[ell][m]\n",
    "    \n",
    "    return hp.alm2map(unsort_alms(filtered_alms), nside=nside)"
   ]
  },
  {
   "cell_type": "code",
   "execution_count": 12,
   "metadata": {},
   "outputs": [],
   "source": [
    "def get_three_filtered_maps(sorted_alms, i1, i2, i3, nside=1024):\n",
    "    map_i1 = filter_map_binned(sorted_alms, i1)\n",
    "    map_i2 = filter_map_binned(sorted_alms, i2)\n",
    "    map_i3 = filter_map_binned(sorted_alms, i3)\n",
    "    return map_i1, map_i2, map_i3"
   ]
  },
  {
   "cell_type": "code",
   "execution_count": 13,
   "metadata": {},
   "outputs": [],
   "source": [
    "def create_bins(lmin, lmax, nbins):\n",
    "    i = np.arange(lmin, lmax + 1, nbins)\n",
    "    return i, i, i"
   ]
  },
  {
   "cell_type": "code",
   "execution_count": 14,
   "metadata": {},
   "outputs": [],
   "source": [
    "def get_pix_area(map):\n",
    "    return hp.nside2pixarea(hp.get_nside(map))\n",
    "\n",
    "def get_pix_areas(map1, map2, map3):\n",
    "    return get_pix_area(map1), get_pix_area(map2), get_pix_area(map3)\n",
    "\n",
    "def get_map_sizes(map1, map2, map3):\n",
    "    return hp.get_map_size(map1). hp.get_map_size(map2), hp.get_map_size(map3)"
   ]
  },
  {
   "cell_type": "code",
   "execution_count": 15,
   "metadata": {},
   "outputs": [],
   "source": [
    "# @njit(parallel=True)\n",
    "# to speed up, will jit local function to compute bispec within.\n",
    "def compute_binned_bispec(i1, i2, i3, map_i1, map_i2, map_i3, num_threads=16):\n",
    "    \"\"\"\n",
    "    Compute binned bispec\n",
    "\n",
    "    Parameters:\n",
    "    \"\"\"\n",
    "    xi = count_valid_configs(i1, i2, i3, num_threads=num_threads)\n",
    "    assert xi != 0\n",
    "\n",
    "    pixarea = get_pix_area(map_i1)\n",
    "    B_i = np.sum(map_i1 * map_i2 * map_i3) * pixarea\n",
    "\n",
    "    return (1 / xi) * B_i\n"
   ]
  },
  {
   "attachments": {},
   "cell_type": "markdown",
   "metadata": {},
   "source": [
    "## Filter Method"
   ]
  },
  {
   "attachments": {},
   "cell_type": "markdown",
   "metadata": {},
   "source": [
    "Because of this normalization factor, $B_{i_1 i_2 i_3}^{p_1 p_2 p_3}$ may be considered an average over all valid $B_{\\ell_1 \\ell_2 \\ell_3}^{p_1 p_2 p_3}$ inside the bin triplet."
   ]
  },
  {
   "cell_type": "code",
   "execution_count": 39,
   "metadata": {},
   "outputs": [],
   "source": [
    "@njit(parallel=True)\n",
    "def find_valid_configs(i1, i2, i3, num_threads=16):\n",
    "    \"\"\"\n",
    "    Counts the number of valid ell-triplet configurations in a single bin.\n",
    "    Validity is determined as satisfying the parity condition selection\n",
    "    rule and the triangle inequality.\n",
    "\n",
    "    Inputs:\n",
    "        i1 (int) : bin1\n",
    "        i2 (int) : bin2\n",
    "        i3 (int) : bin3\n",
    "        num_threads (int) : number of threads to parallelize on\n",
    "\n",
    "    Returns:\n",
    "        (int) : number of valid configurations of ell-triplets.\n",
    "    \"\"\"\n",
    "\n",
    "    set_num_threads(num_threads)\n",
    "\n",
    "    num_configs = count_valid_configs(i1, i2, i3, num_threads=num_threads)\n",
    "\n",
    "    valid_configs = np.zeros(num_configs, dtype=(int, int, int))\n",
    "\n",
    "    i = 0\n",
    "    for i, l1 in enumerate(i1):\n",
    "        for l2 in i2:\n",
    "            for l3 in i3:\n",
    "                if check_valid_triangle(l1, l2, l3):\n",
    "                    valid_configs[i] = (l1, l2, l3)\n",
    "\n",
    "    return valid_configs"
   ]
  },
  {
   "cell_type": "code",
   "execution_count": 40,
   "metadata": {},
   "outputs": [
    {
     "ename": "TypingError",
     "evalue": "Failed in nopython mode pipeline (step: nopython frontend)\nNo implementation of function Function(<built-in function zeros>) found for signature:\n \n >>> zeros(int64, dtype=UniTuple(Function(<class 'int'>) x 3))\n \nThere are 2 candidate implementations:\n    - Of which 2 did not match due to:\n    Overload in function 'ol_np_zeros': File: numba/np/arrayobj.py: Line 4164.\n      With argument(s): '(int64, dtype=UniTuple(Function(<class 'int'>) x 3))':\n     Rejected as the implementation raised a specific error:\n       TypingError: Failed in nopython mode pipeline (step: nopython frontend)\n     No implementation of function Function(<built-in function empty>) found for signature:\n      \n      >>> empty(int64, dtype=UniTuple(Function(<class 'int'>) x 3))\n      \n     There are 2 candidate implementations:\n           - Of which 2 did not match due to:\n           Overload in function 'ol_np_empty': File: numba/np/arrayobj.py: Line 4086.\n             With argument(s): '(int64, dtype=UniTuple(Function(<class 'int'>) x 3))':\n            Rejected as the implementation raised a specific error:\n              TypingError: Cannot parse input types to function np.empty(int64, UniTuple(Function(<class 'int'>) x 3))\n       raised from /home/abarnea/miniconda3/lib/python3.9/site-packages/numba/np/arrayobj.py:4105\n     \n     During: resolving callee type: Function(<built-in function empty>)\n     During: typing of call at /home/abarnea/miniconda3/lib/python3.9/site-packages/numba/np/arrayobj.py (4169)\n     \n     \n     File \"../../../../../../home/abarnea/miniconda3/lib/python3.9/site-packages/numba/np/arrayobj.py\", line 4169:\n         def impl(shape, dtype=float):\n             arr = np.empty(shape, dtype=dtype)\n             ^\n\n  raised from /home/abarnea/miniconda3/lib/python3.9/site-packages/numba/core/typeinfer.py:1086\n\nDuring: resolving callee type: Function(<built-in function zeros>)\nDuring: typing of call at /tmp/ipykernel_22170/660908412.py (22)\n\n\nFile \"../../../../../../tmp/ipykernel_22170/660908412.py\", line 22:\n<source missing, REPL/exec in use?>\n",
     "output_type": "error",
     "traceback": [
      "\u001b[0;31m---------------------------------------------------------------------------\u001b[0m",
      "\u001b[0;31mTypingError\u001b[0m                               Traceback (most recent call last)",
      "\u001b[1;32m/data/a/cpac/abarnea/Bispectra/Bispectrum/bispec_alt_methods.ipynb Cell 21\u001b[0m in \u001b[0;36m<cell line: 1>\u001b[0;34m()\u001b[0m\n\u001b[0;32m----> <a href='vscode-notebook-cell://ssh-remote%2Broomba/data/a/cpac/abarnea/Bispectra/Bispectrum/bispec_alt_methods.ipynb#X60sdnNjb2RlLXJlbW90ZQ%3D%3D?line=0'>1</a>\u001b[0m find_valid_configs(i1_bin1, i2_bin1, i3_bin1)\n",
      "File \u001b[0;32m~/miniconda3/lib/python3.9/site-packages/numba/core/dispatcher.py:468\u001b[0m, in \u001b[0;36m_DispatcherBase._compile_for_args\u001b[0;34m(self, *args, **kws)\u001b[0m\n\u001b[1;32m    464\u001b[0m         msg \u001b[39m=\u001b[39m (\u001b[39mf\u001b[39m\u001b[39m\"\u001b[39m\u001b[39m{\u001b[39;00m\u001b[39mstr\u001b[39m(e)\u001b[39m.\u001b[39mrstrip()\u001b[39m}\u001b[39;00m\u001b[39m \u001b[39m\u001b[39m\\n\u001b[39;00m\u001b[39m\\n\u001b[39;00m\u001b[39mThis error may have been caused \u001b[39m\u001b[39m\"\u001b[39m\n\u001b[1;32m    465\u001b[0m                \u001b[39mf\u001b[39m\u001b[39m\"\u001b[39m\u001b[39mby the following argument(s):\u001b[39m\u001b[39m\\n\u001b[39;00m\u001b[39m{\u001b[39;00margs_str\u001b[39m}\u001b[39;00m\u001b[39m\\n\u001b[39;00m\u001b[39m\"\u001b[39m)\n\u001b[1;32m    466\u001b[0m         e\u001b[39m.\u001b[39mpatch_message(msg)\n\u001b[0;32m--> 468\u001b[0m     error_rewrite(e, \u001b[39m'\u001b[39;49m\u001b[39mtyping\u001b[39;49m\u001b[39m'\u001b[39;49m)\n\u001b[1;32m    469\u001b[0m \u001b[39mexcept\u001b[39;00m errors\u001b[39m.\u001b[39mUnsupportedError \u001b[39mas\u001b[39;00m e:\n\u001b[1;32m    470\u001b[0m     \u001b[39m# Something unsupported is present in the user code, add help info\u001b[39;00m\n\u001b[1;32m    471\u001b[0m     error_rewrite(e, \u001b[39m'\u001b[39m\u001b[39munsupported_error\u001b[39m\u001b[39m'\u001b[39m)\n",
      "File \u001b[0;32m~/miniconda3/lib/python3.9/site-packages/numba/core/dispatcher.py:409\u001b[0m, in \u001b[0;36m_DispatcherBase._compile_for_args.<locals>.error_rewrite\u001b[0;34m(e, issue_type)\u001b[0m\n\u001b[1;32m    407\u001b[0m     \u001b[39mraise\u001b[39;00m e\n\u001b[1;32m    408\u001b[0m \u001b[39melse\u001b[39;00m:\n\u001b[0;32m--> 409\u001b[0m     \u001b[39mraise\u001b[39;00m e\u001b[39m.\u001b[39mwith_traceback(\u001b[39mNone\u001b[39;00m)\n",
      "\u001b[0;31mTypingError\u001b[0m: Failed in nopython mode pipeline (step: nopython frontend)\nNo implementation of function Function(<built-in function zeros>) found for signature:\n \n >>> zeros(int64, dtype=UniTuple(Function(<class 'int'>) x 3))\n \nThere are 2 candidate implementations:\n    - Of which 2 did not match due to:\n    Overload in function 'ol_np_zeros': File: numba/np/arrayobj.py: Line 4164.\n      With argument(s): '(int64, dtype=UniTuple(Function(<class 'int'>) x 3))':\n     Rejected as the implementation raised a specific error:\n       TypingError: Failed in nopython mode pipeline (step: nopython frontend)\n     No implementation of function Function(<built-in function empty>) found for signature:\n      \n      >>> empty(int64, dtype=UniTuple(Function(<class 'int'>) x 3))\n      \n     There are 2 candidate implementations:\n           - Of which 2 did not match due to:\n           Overload in function 'ol_np_empty': File: numba/np/arrayobj.py: Line 4086.\n             With argument(s): '(int64, dtype=UniTuple(Function(<class 'int'>) x 3))':\n            Rejected as the implementation raised a specific error:\n              TypingError: Cannot parse input types to function np.empty(int64, UniTuple(Function(<class 'int'>) x 3))\n       raised from /home/abarnea/miniconda3/lib/python3.9/site-packages/numba/np/arrayobj.py:4105\n     \n     During: resolving callee type: Function(<built-in function empty>)\n     During: typing of call at /home/abarnea/miniconda3/lib/python3.9/site-packages/numba/np/arrayobj.py (4169)\n     \n     \n     File \"../../../../../../home/abarnea/miniconda3/lib/python3.9/site-packages/numba/np/arrayobj.py\", line 4169:\n         def impl(shape, dtype=float):\n             arr = np.empty(shape, dtype=dtype)\n             ^\n\n  raised from /home/abarnea/miniconda3/lib/python3.9/site-packages/numba/core/typeinfer.py:1086\n\nDuring: resolving callee type: Function(<built-in function zeros>)\nDuring: typing of call at /tmp/ipykernel_22170/660908412.py (22)\n\n\nFile \"../../../../../../tmp/ipykernel_22170/660908412.py\", line 22:\n<source missing, REPL/exec in use?>\n"
     ]
    }
   ],
   "source": [
    "find_valid_configs(i1_bin1, i2_bin1, i3_bin1)"
   ]
  },
  {
   "cell_type": "code",
   "execution_count": 17,
   "metadata": {},
   "outputs": [],
   "source": [
    "@njit\n",
    "def compute_bispec_norm_factor(l1, l2, l3):\n",
    "    val_init = (max(l1, l2, l3) + 1) * 2\n",
    "    lib.wig_table_init(val_init, 3)\n",
    "    lib.wig_temp_init(val_init)\n",
    "    norm_factor = ((l1*2+1) * (l2*2+1) * (l3*2+1))/(4*np.pi) \\\n",
    "                        * (nb_wig3jj(2*l1, 2*l2, 2*l3, 0, 0, 0))**2\n",
    "    lib.wig_temp_free()\n",
    "    lib.wig_table_free()\n",
    "    return norm_factor"
   ]
  },
  {
   "cell_type": "code",
   "execution_count": 18,
   "metadata": {},
   "outputs": [],
   "source": [
    "@njit(parallel=True)\n",
    "def compute_bispec(l1, l2, l3, alms_l1, alms_l2, alms_l3, num_threads=16):\n",
    "\n",
    "    if not check_valid_triangle(l1, l2, l3):\n",
    "        return None\n",
    "\n",
    "    bispec_sum = 0\n",
    "    val_init = (max(l1, l2, l3) + 1) * 2\n",
    "\n",
    "    set_num_threads(num_threads) # set for Roomba to be 16 threads max\n",
    "\n",
    "    lib.wig_table_init(val_init, 3)\n",
    "\n",
    "    lib.wig_temp_init(val_init)\n",
    "    norm_factor = ((l1*2+1) * (l2*2+1) * (l3*2+1))/(4*np.pi) \\\n",
    "                        * (nb_wig3jj(2*l1, 2*l2, 2*l3, 0, 0, 0))**(2)\n",
    "    lib.wig_temp_free()\n",
    "\n",
    "    if not norm_factor:\n",
    "        return 0\n",
    "\n",
    "    for m1 in prange(-l1, l1 + 1):\n",
    "        lib.wig_temp_init(val_init)\n",
    "        for m2 in range(-l2, l2 + 1):\n",
    "            m3 = -(m1 + m2) # noting that m1 + m2 + m3 == 0\n",
    "            if -l3 <= m3 <= l3:\n",
    "                w3j = nb_wig3jj(2*l1, 2*l2, 2*l3, 2*m1, 2*m2, 2*m3)\n",
    "                if w3j:\n",
    "                    conv = (0 + 1j)**(l1 + l2 + l3)\n",
    "                    exp_alms = conv * alms_l1[m1] * alms_l2[m2] * alms_l3[m3]\n",
    "                    bispec_sum += w3j * exp_alms.real\n",
    "        lib.wig_temp_free()\n",
    "    \n",
    "    lib.wig_table_free()\n",
    "\n",
    "    return perm_weighting(l1, l2, l3) * np.sqrt(norm_factor) * bispec_sum"
   ]
  },
  {
   "cell_type": "code",
   "execution_count": 19,
   "metadata": {},
   "outputs": [],
   "source": [
    "@njit\n",
    "def perm_weighting(l1, l2, l3):\n",
    "    \"\"\"\n",
    "    Finds the permutation weighting given 3 inputted ell values.\n",
    "\n",
    "    Inputs:\n",
    "        val1 (int) : \n",
    "    \"\"\"\n",
    "    if l1 == l2 == l3:\n",
    "        return 1\n",
    "    elif l1 != l2 != l3:\n",
    "        return 6\n",
    "    else:\n",
    "        return 3"
   ]
  },
  {
   "cell_type": "code",
   "execution_count": 20,
   "metadata": {},
   "outputs": [],
   "source": [
    "def compute_averaged_bispec(i1, i2, i3, sorted_alms, num_threads=16):\n",
    "    \n",
    "    configs = find_valid_configs(i1, i2, i3)\n",
    "\n",
    "    bls = 0\n",
    "    for l1, l2, l3 in configs:\n",
    "        bls += compute_bispec(l1, l2, l3, sorted_alms[l1], sorted_alms[l2], sorted_alms[l3], num_threads=num_threads)\n",
    "    \n",
    "    return bls / len(configs)"
   ]
  },
  {
   "cell_type": "code",
   "execution_count": 21,
   "metadata": {},
   "outputs": [],
   "source": [
    "# test = find_valid_configs(i1_bin, i2_bin, i3_bin)\n",
    "\n",
    "# for l1, l2, l3 in test:\n",
    "#     val_init = (max(l1, l2, l3) + 1) * 2\n",
    "\n",
    "#     lib.wig_table_init(val_init, 3)\n",
    "\n",
    "#     lib.wig_temp_init(val_init)\n",
    "#     norm_factor = ((l1*2+1) * (l2*2+1) * (l3*2+1))/(4*np.pi) \\\n",
    "#                         * (nb_wig3jj(2*l1, 2*l2, 2*l3, 0, 0, 0))**2\n",
    "#     lib.wig_temp_free()\n",
    "#     lib.wig_table_free()\n",
    "\n",
    "#     if norm_factor < 0:\n",
    "#         print(norm_factor)"
   ]
  },
  {
   "cell_type": "code",
   "execution_count": 22,
   "metadata": {},
   "outputs": [],
   "source": [
    "# lmin_bin = 2\n",
    "# lmax_bin = 20\n",
    "# nbins = 1\n",
    "\n",
    "# i1_bin, i2_bin, i3_bin = create_bins(lmin_bin, lmax_bin, nbins)\n",
    "\n",
    "# map_i1_bin, map_i2_bin, map_i3_bin = get_three_filtered_maps(sorted_alms, i1_bin, i2_bin, i3_bin)"
   ]
  },
  {
   "attachments": {},
   "cell_type": "markdown",
   "metadata": {},
   "source": [
    "## Testing Bins"
   ]
  },
  {
   "attachments": {},
   "cell_type": "markdown",
   "metadata": {},
   "source": [
    "Just some bins"
   ]
  },
  {
   "cell_type": "code",
   "execution_count": 23,
   "metadata": {},
   "outputs": [],
   "source": [
    "lmin_bin1 = 2\n",
    "lmax_bin1 = 10\n",
    "\n",
    "lmin_bin2 = 11\n",
    "lmax_bin2 = 20\n",
    "\n",
    "lmin_bin3 = 21\n",
    "lmax_bin3 = 30\n",
    "\n",
    "nbins = 1\n",
    "\n",
    "i1_bin1, i2_bin1, i3_bin1 = create_bins(lmin_bin1, lmax_bin1, nbins)\n",
    "i1_bin2, i2_bin2, i3_bin2 = create_bins(lmin_bin2, lmax_bin2, nbins)\n",
    "i1_bin3, i2_bin3, i3_bin3 = create_bins(lmin_bin3, lmax_bin3, nbins)\n",
    "\n",
    "map_i1_bin1, map_i2_bin1, map_i3_bin1 = get_three_filtered_maps(sorted_alms, i1_bin1, i2_bin1, i3_bin1)\n",
    "map_i1_bin2, map_i2_bin2, map_i3_bin2 = get_three_filtered_maps(sorted_alms, i1_bin2, i2_bin2, i3_bin2)\n",
    "map_i1_bin3, map_i2_bin3, map_i3_bin3 = get_three_filtered_maps(sorted_alms, i1_bin3, i2_bin3, i3_bin3)"
   ]
  },
  {
   "cell_type": "code",
   "execution_count": 24,
   "metadata": {},
   "outputs": [
    {
     "name": "stdout",
     "output_type": "stream",
     "text": [
      "bin1_map [2,10]: -0.0009113624237739709\n",
      "bin1_avg [2,10]: -0.0009113628837987893\n",
      "map/avg for bin1: 0.9999994952341963\n",
      "\n",
      "bin2_map [11,20]: -1.826359034108936e-07\n",
      "bin2_avg [11,20]: -1.8263761014774686e-07\n",
      "map/avg for bin2: 0.9999906550635881\n",
      "\n",
      "bin3_map [21,30]: -1.424675645979728e-06\n",
      "bin3_avg [21,30]: -1.4246759337794276e-06\n",
      "map/avg for bin3: 0.9999997979893583\n",
      "\n"
     ]
    }
   ],
   "source": [
    "b_map_bin1 = compute_binned_bispec(i1_bin1, i2_bin1, i3_bin1, map_i1_bin1, map_i2_bin1, map_i3_bin1)\n",
    "b_avg_bin1 = compute_averaged_bispec(i1_bin1, i2_bin1, i3_bin1, sorted_alms)\n",
    "\n",
    "b_map_bin2 = compute_binned_bispec(i1_bin2, i2_bin2, i3_bin2, map_i1_bin2, map_i2_bin2, map_i3_bin2)\n",
    "b_avg_bin2 = compute_averaged_bispec(i1_bin2, i2_bin2, i3_bin2, sorted_alms)\n",
    "\n",
    "b_map_bin3 = compute_binned_bispec(i1_bin3, i2_bin3, i3_bin3, map_i1_bin3, map_i2_bin3, map_i3_bin3)\n",
    "b_avg_bin3 = compute_averaged_bispec(i1_bin3, i2_bin3, i3_bin3, sorted_alms)\n",
    "\n",
    "print(\"bin1_map [2,10]:\",b_map_bin1)\n",
    "print(\"bin1_avg [2,10]:\",b_avg_bin1)\n",
    "print(\"map/avg for bin1:\",b_map_bin1/b_avg_bin1)\n",
    "print()\n",
    "\n",
    "print(\"bin2_map [11,20]:\",b_map_bin2)\n",
    "print(\"bin2_avg [11,20]:\",b_avg_bin2)\n",
    "print(\"map/avg for bin2:\",b_map_bin2/b_avg_bin2)\n",
    "print()\n",
    "\n",
    "print(\"bin3_map [21,30]:\", b_map_bin3)\n",
    "print(\"bin3_avg [21,30]:\",b_avg_bin3)\n",
    "print(\"map/avg for bin3:\",b_map_bin3/b_avg_bin3)\n",
    "print()"
   ]
  },
  {
   "cell_type": "code",
   "execution_count": 25,
   "metadata": {},
   "outputs": [
    {
     "name": "stdout",
     "output_type": "stream",
     "text": [
      "71 71 True\n"
     ]
    }
   ],
   "source": [
    "num_configs = count_valid_configs(i1_bin1, i2_bin1, i3_bin1)\n",
    "len_configs = len(find_valid_configs(i1_bin1, i2_bin1, i3_bin1))\n",
    "\n",
    "print(num_configs, len_configs, num_configs == len_configs)"
   ]
  },
  {
   "attachments": {},
   "cell_type": "markdown",
   "metadata": {},
   "source": [
    "## Variance"
   ]
  },
  {
   "attachments": {},
   "cell_type": "markdown",
   "metadata": {},
   "source": [
    "Let's look at the theoretical variance, given by:\n",
    "\n",
    "$$ \\operatorname{Var}\\left(B_{\\ell_{1} \\ell_{2} \\ell_{3}}\\right)=g_{\\ell_{1} \\ell_{2} \\ell_{3}} N_{\\Delta}^{\\ell_{1} \\ell_{2} \\ell_{3}} C_{\\ell_{1}} C_{\\ell_{2}} C_{\\ell_{3}} \\equiv V_{\\ell_{1} \\ell_{2} \\ell_{3}} $$\n",
    "\n",
    "such that $N_{\\Delta}^{\\ell_1 \\ell_2 \\ell_3}$ is as before, namely:\n",
    "\n",
    "$$ N_{\\Delta}^{\\ell_1\\ell_2\\ell_3} = \\frac{(2\\ell_1+1)(2\\ell_2+1)(2\\ell_3+1)}{4\\pi} \\begin{pmatrix}\n",
    "    \\ell_1 & \\ell_2 & \\ell_3 \\\\\n",
    "    0 & 0 & 0\n",
    "\\end{pmatrix}^2 $$\n",
    "\n",
    "and $g_{\\ell_1 \\ell_2 \\ell_3}$ is equal to either 6, 2, or 1 depending on whether 3, 2, or no $\\ell$'s are equal respectively. This implies that, for the equilateral case we're dealing with above, $g_{\\ell_1 \\ell_2 \\ell_3} = 6$, giving us a variance of:\n",
    "\n",
    "$$ V_{\\ell_1 \\ell_2 \\ell_3} = 6 \\cdot N_{\\Delta}^{\\ell_1 \\ell_2 \\ell_3} \\cdot C_{\\ell_1} C_{\\ell_2} C_{\\ell_3} $$\n",
    "\n",
    "It should be noted that, for the binned bispectrum $ B_{i_1 i_2 i_3} = (\\Xi_{i_1 i_2 i_3})^{-1} \\sum_{\\ell_1\\in\\Delta_1}\\sum_{\\ell_2\\in\\Delta_2}\\sum_{\\ell_3\\in\\Delta_3} B_{\\ell_1 \\ell_2 \\ell_3} $ where $\\Xi_{i_1 i_2 i_3}$ is the number of $\\ell$ triplets within the $(i_1,i_2,i_3)$ bin triplet satisfying the triangle\n",
    "inequality and parity condition selection rule, the variance $\\operatorname{Var} (B_{i_1 i_2 i_3})$ is:\n",
    "\n",
    "$$ \\operatorname{Var} (B_{i_1 i_2 i_3}) = \\frac{g_{i_1 i_2 i_3}}{(\\Xi_{i_1 i_2 i_3})^2} \\sum_{\\ell_1\\in\\Delta_1}\\sum_{\\ell_2\\in\\Delta_2}\\sum_{\\ell_3\\in\\Delta_3} N_{\\Delta}^{\\ell_1 \\ell_2 \\ell_3} C_{\\ell_1} C_{\\ell_2} C_{\\ell_3} \\equiv V_{i_1 i_2 i_3} $$"
   ]
  },
  {
   "cell_type": "code",
   "execution_count": 26,
   "metadata": {},
   "outputs": [],
   "source": [
    "def find_bispec_var(l1, l2, l3, binned=False):\n",
    "    val_init = (max(l1, l2, l3) + 1) * 2\n",
    "    \n",
    "    lib.wig_table_init(val_init, 3)\n",
    "    lib.wig_temp_init(val_init)\n",
    "    norm_factor = ((l1 * 2 + 1) * (l2 * 2 + 1) * (l3 * 2 + 1))/(4 * np.pi) * (get_w3j(l1, l2, l3, 0, 0, 0))**2\n",
    "    lib.wig_temp_free()\n",
    "    lib.wig_table_free()\n",
    "    \n",
    "    ells = np.array([l1, l2, l3])\n",
    "    cls = (ells+0.0)**(-3.)\n",
    "    if binned:\n",
    "        return norm_factor * np.prod(cls)\n",
    "    else:\n",
    "        return find_g_val(l1, l2, l3) * norm_factor * np.prod(cls)\n",
    "\n",
    "def find_binned_bispec_var(i1, i2, i3):\n",
    "    \"\"\"\n",
    "    Finds the variance of the binned bispectrum according to Eq.\n",
    "\n",
    "    Inputs:\n",
    "        i1 (ndarray) : i1 bins\n",
    "        i2 (ndarray) : i2 bins\n",
    "        i3 (ndarray) : i3 bins\n",
    "    \n",
    "    Returns:\n",
    "        (ndarray) : variance of binned bispectrum\n",
    "    \"\"\"\n",
    "    configs = find_valid_configs(i1, i2, i3)\n",
    "    num_configs = len(configs)\n",
    "\n",
    "    bls_var = np.zeros(num_configs, dtype='float')\n",
    "    for i, (l1, l2, l3) in enumerate(configs):\n",
    "        bls_var[i] += find_bispec_var(l1, l2, l3, binned=True)\n",
    "    \n",
    "    g = find_g_val(i1[-1], i2[-1], i3[-1])\n",
    "\n",
    "    return g/(num_configs**2) * bls_var\n",
    "\n",
    "@njit\n",
    "def find_g_val(val1, val2, val3):\n",
    "    \"\"\"\n",
    "    Finds the g-value given 3 inputted ell values or bins.\n",
    "\n",
    "    Inputs:\n",
    "        val1 (int) : \n",
    "    \"\"\"\n",
    "    if val1 == val2 == val3:\n",
    "        return 6\n",
    "    elif val1 != val2 != val3:\n",
    "        return 1\n",
    "    else:\n",
    "        return 2"
   ]
  },
  {
   "cell_type": "code",
   "execution_count": 27,
   "metadata": {},
   "outputs": [],
   "source": [
    "binned_var = find_binned_bispec_var(i1_bin1, i2_bin1, i3_bin1)\n",
    "configs = find_valid_configs(i1_bin1, i2_bin1, i3_bin1)"
   ]
  },
  {
   "cell_type": "code",
   "execution_count": 28,
   "metadata": {},
   "outputs": [],
   "source": [
    "# i don't really know how to plot binned_var against the configs??\n",
    "# sums def are not a good way of doing this\n",
    "plt_sums = [l1 + l2 + l3 for l1, l2, l3 in configs]"
   ]
  },
  {
   "cell_type": "code",
   "execution_count": 29,
   "metadata": {},
   "outputs": [
    {
     "data": {
      "image/png": "[encoded data removed]",
      "text/plain": [
       "<Figure size 864x432 with 1 Axes>"
      ]
     },
     "metadata": {
      "needs_background": "light"
     },
     "output_type": "display_data"
    }
   ],
   "source": [
    "plt.figure(figsize=(12, 6))\n",
    "# plt.plot(ls, np.std(bls_maps, 0)**2, 'k--', label=\"gauss\")\n",
    "# plt.plot(ls, np.std(bls_maps_ng, 0)**2, 'r:', label=\"nongauss\")\n",
    "# plt.plot(ls, (ls+0.0)**(-8), label=\"$\\ell^{-8}$\")\n",
    "# plt.plot(ls, bls_var, label=\"$V_{\\ell_1 \\ell_2 \\ell_3}$\")\n",
    "plt.plot(plt_sums, binned_var, label=\"$V_{i_1 i_2 i_3}$\")\n",
    "plt.legend(frameon=False, loc='upper right', fontsize=16)\n",
    "plt.title(f\"variance of bispectra for ibins = [{i1_bin1[0], i1_bin1[-1]}], nbins={nbins}\", fontsize=18)\n",
    "plt.xlabel(\"multipole triplet $(\\ell_1,\\ell_2,\\ell_3)$\", fontsize=18)\n",
    "plt.ylabel(\"variance of $B_{\\ell_1, \\ell_2, \\ell_3}$\", fontsize=18)\n",
    "plt.yscale('log')\n",
    "plt.show()"
   ]
  }
 ],
 "metadata": {
  "kernelspec": {
   "display_name": "base",
   "language": "python",
   "name": "python3"
  },
  "language_info": {
   "codemirror_mode": {
    "name": "ipython",
    "version": 3
   },
   "file_extension": ".py",
   "mimetype": "text/x-python",
   "name": "python",
   "nbconvert_exporter": "python",
   "pygments_lexer": "ipython3",
   "version": "3.9.12"
  },
  "orig_nbformat": 4,
  "vscode": {
   "interpreter": {
    "hash": "c71467c1cead1faa151a2e40e8c8dc7122fa70e94f152c28cbbc4540833ad705"
   }
  }
 },
 "nbformat": 4,
 "nbformat_minor": 2
}
