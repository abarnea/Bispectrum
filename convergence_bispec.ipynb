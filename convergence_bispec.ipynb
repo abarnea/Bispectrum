{
 "cells": [
  {
   "attachments": {},
   "cell_type": "markdown",
   "metadata": {},
   "source": [
    "## Convergence Bispectrum Calculations"
   ]
  },
  {
   "cell_type": "code",
   "execution_count": 1,
   "metadata": {},
   "outputs": [],
   "source": [
    "import numpy as np\n",
    "import healpy as hp\n",
    "import bispec_calculator as bispec\n",
    "from helper_funcs import *"
   ]
  },
  {
   "attachments": {},
   "cell_type": "markdown",
   "metadata": {},
   "source": [
    "The goal of this Jupyter notebook is to calculate the Theoretical Convergence Bispectrum, which is given by $\\texttt{Munshi et. al}$'s paper as the equation\n",
    "\n",
    "$$B_{\\ell_1, \\ell_2, \\ell_3} = \\int_0^{\\chi_s} d\\chi \\left[\\frac{3\\Omega_M H_0^2}{2a(\\chi)}\\right]^3 \\chi^2 W^3(\\chi, \\chi_s) B_{\\delta}\\left(\\frac{\\ell_1}{\\chi}, \\frac{\\ell_2}{\\chi}, \\frac{\\ell_3}{\\chi}, \\chi\\right)$$"
   ]
  },
  {
   "attachments": {},
   "cell_type": "markdown",
   "metadata": {},
   "source": [
    "Since the source plan is just the CMB plane here, then we can find the comoving distance by converting the redshift of the CMB plane to comoving distance:"
   ]
  },
  {
   "cell_type": "code",
   "execution_count": 2,
   "metadata": {},
   "outputs": [],
   "source": [
    "from scipy.integrate import quad\n",
    "from scipy import interpolate\n",
    "from astropy.cosmology import Planck18 as cosmo\n",
    "from astropy.constants import c\n",
    "from astropy import units as u\n",
    "\n",
    "def interp_chi_and_z(z: int) -> float:\n",
    "    \"\"\"\n",
    "    Interpolate comoving and redshift\n",
    "\n",
    "    Parameters:\n",
    "        z (int) : redshift\n",
    "    \n",
    "    Returns:\n",
    "        chi_from_z (float) : comoving distance\n",
    "    \"\"\"\n",
    "    c_km = c.to(u.km/u.s).value\n",
    "\n",
    "    def _invH(z):\n",
    "        return c_km/cosmo.H(z).value\n",
    "\n",
    "    zs = np.logspace(-2, 3.5, 1000)\n",
    "    dcm = np.zeros_like(zs)\n",
    "\n",
    "    for i, z in enumerate(zs):\n",
    "        dcm[i] = quad(_invH, 0, z)[0]\n",
    "\n",
    "    chi_int = interpolate.interp1d(zs, dcm, bounds_error=False, fill_value = 0)\n",
    "    z_int = interpolate.interp1d(dcm, zs, bounds_error=False, fill_value = 0)\n",
    "\n",
    "    return chi_int, z_int"
   ]
  },
  {
   "cell_type": "code",
   "execution_count": 3,
   "metadata": {},
   "outputs": [],
   "source": [
    "chi_int = interp_chi_and_z(5)[0]"
   ]
  },
  {
   "cell_type": "code",
   "execution_count": 4,
   "metadata": {},
   "outputs": [
    {
     "data": {
      "text/plain": [
       "array(1600.12854886)"
      ]
     },
     "execution_count": 4,
     "metadata": {},
     "output_type": "execute_result"
    }
   ],
   "source": [
    "chi_int(0.4)"
   ]
  },
  {
   "cell_type": "code",
   "execution_count": 5,
   "metadata": {},
   "outputs": [],
   "source": [
    "def compute_scale_factor(z: int) -> float:\n",
    "    \"\"\"\n",
    "    Finds the scale factor a(z) from z.\n",
    "\n",
    "    Parameters:\n",
    "        z (int) : redshift\n",
    "\n",
    "    Returns:\n",
    "        a (float) : scale factor\n",
    "    \"\"\"\n",
    "    return 1 / (1 + z)"
   ]
  },
  {
   "attachments": {},
   "cell_type": "markdown",
   "metadata": {},
   "source": [
    "Create $P_k$ as a function of $k$ and $z$ and create a 2-d interpolation.\n",
    "\n",
    "To Do:\n",
    "- Check how long `create_pk` takes to call.\n",
    "- CAMB Matter Power Interpolator\n",
    "    - Check to make sure that I'm putting the right Cosmology in\n",
    "    - Check units after?\n",
    "    - Based on RectBivariateSpline\n",
    "\n",
    "*Dimensionaless vs. Dimensional $P(k)$ units, check to make sure that these factors are/aren't there before integration*\n",
    "\n",
    "Div0 Question:\n",
    "- Start from 0.01"
   ]
  },
  {
   "cell_type": "code",
   "execution_count": 6,
   "metadata": {},
   "outputs": [],
   "source": [
    "from camb import get_matter_power_interpolator, model\n",
    "\n",
    "\n",
    "# zmin – minimum z (use 0 or smaller than you want for good interpolation)\n",
    "\n",
    "# zmax – maximum z (use larger than you want for good interpolation)\n",
    "\n",
    "# nz_step – number of steps to sample in z (default max allowed is 100)\n",
    "\n",
    "# Using Planck 2018 parameters\n",
    "def create_pk(kmax, zmax, zmin=0, nz_step=20, nonlinear=False):\n",
    "    \"\"\"\n",
    "    Creates Power Spectrum at a certain redshift based on Planck 2018 parameters\n",
    "\n",
    "    Parameters:\n",
    "        kmax (ndarray) : ks\n",
    "        zs (ndarray) : zs\n",
    "        \n",
    "    returns:\n",
    "        P_k interpolator : matter power spectrum interpolator\n",
    "    \"\"\"\n",
    "\n",
    "    # Cosmological parameters for Planck18\n",
    "    Omega_c = 0.26067\n",
    "    Omega_b = 0.049\n",
    "    h = 0.6766\n",
    "    n_s = 0.9665\n",
    "    sigma8 = 0.8102\n",
    "    transfer_function = 'boltzmann_camb'\n",
    "    As = np.exp(3.043)/1.e10\n",
    "\n",
    "    cosmo_model = model.CAMBparams()\n",
    "    cosmo_model.set_cosmology(H0=100*h, ombh2=Omega_b*h**2, omch2=Omega_c*h**2)\n",
    "    cosmo_model.InitPower.set_params(ns=n_s, As = As)\n",
    "\n",
    "    Pk_interpolator = get_matter_power_interpolator(params=cosmo_model,\n",
    "                                                    zmin=zmin,\n",
    "                                                    zmax=zmax,\n",
    "                                                    nz_step=nz_step,\n",
    "                                                    kmax=kmax,\n",
    "                                                    hubble_units=False,\n",
    "                                                    k_hunit=False,\n",
    "                                                    nonlinear=nonlinear)\n",
    "                                                    \n",
    "    return Pk_interpolator"
   ]
  },
  {
   "attachments": {},
   "cell_type": "markdown",
   "metadata": {},
   "source": [
    "reasonable value for kmax \\in [1,10]\n",
    "\n",
    "reasonable for zmax is source redshift --> if we're using z=2, set to 2.5 so we don't have any interpolation issues"
   ]
  },
  {
   "cell_type": "code",
   "execution_count": 7,
   "metadata": {},
   "outputs": [],
   "source": [
    "zmax = 2.5\n",
    "kmax = 10\n",
    "\n",
    "P_k = create_pk(zmax, kmax)"
   ]
  },
  {
   "attachments": {},
   "cell_type": "markdown",
   "metadata": {},
   "source": [
    "First thing we need to do is calculate $B_{\\delta}(\\mathbf{k}_1, \\mathbf{k}_2, \\mathbf{k}_3; \\chi)$, which is given by:\n",
    "\n",
    "$$B_{\\delta}(\\mathbf{k}_1, \\mathbf{k}_2, \\mathbf{k}_3; \\chi) = 2F_2(\\mathbf{k}_1, \\mathbf{k}_2, z)P_{\\delta}(\\mathbf{k}_1,z)P_{\\delta}(\\mathbf{k_2},z) + \\text{cyc. perm}$$\n",
    "\n",
    "such that:\n",
    "\n",
    "$$F_2(\\mathbf{k}_1, \\mathbf{k}_2, z) = \\frac57 a(k_1, z)a(k_2, z) + \\frac12 \\frac{k_1^2 + k_2^2}{k_1k_2}b(k_1, z)b (k_2,z)\\cos\\theta + \\frac27 c(k_1, z)c(k_2,z)$$\n",
    "\n",
    "where we're using $a = b = c = 1$, giving us:\n",
    "\n",
    "$$F_2(\\mathbf{k}_1, \\mathbf{k}_2, z) = \\frac57 + \\frac12 \\frac{k_1^2 + k_2^2}{k_1k_2}\\cos\\theta + \\frac27$$\n",
    "\n",
    "We'll need this for every cyclic permutation, so let's code up a general function to solve for $F_2$:"
   ]
  },
  {
   "attachments": {},
   "cell_type": "markdown",
   "metadata": {},
   "source": [
    "Now let's find the overall expression for $B_{\\delta}(\\mathbf{k}_1, \\mathbf{k}_2, \\mathbf{k}_3; \\chi)$:"
   ]
  },
  {
   "cell_type": "code",
   "execution_count": 8,
   "metadata": {},
   "outputs": [],
   "source": [
    "# F2 function\n",
    "def F2(k1, k2):\n",
    "    # cos(theta) = cos(2pi/3) = 1/2 b/c equilateral triangle\n",
    "    return 5/7 + 1/2 * (k1**2 + k2**2)/(k1 * k2) * 1/2 + (2/7 * 1/4)\n",
    "\n",
    "def create_B_delta_term(P_k, k_i, k_j, z):\n",
    "    return 2 * F2(k_i, k_j) * P_k.P(z, k_i) * P_k.P(z, k_j)\n",
    "\n",
    "def compute_B_delta(chi, P_k, k1, k2, k3, z_int):\n",
    "    ks_i = [k1, k2, k3]\n",
    "    ks_j = [k2, k3, k1]\n",
    "    z_val = z_int(chi)\n",
    "    \n",
    "    B_delta = 0\n",
    "    for k_i, k_j in zip(ks_i, ks_j):\n",
    "        B_delta += create_B_delta_term(P_k, k_i, k_j, z_val)\n",
    "    \n",
    "    return B_delta"
   ]
  },
  {
   "attachments": {},
   "cell_type": "markdown",
   "metadata": {},
   "source": [
    "Now let's find the lensing kernel, which is given by:\n",
    "\n",
    "$$W(\\chi, \\chi_s) = \\frac{\\chi_s - \\chi}{\\chi\\chi_s}\\Theta(\\chi_s - \\chi)$$\n",
    "\n",
    "where the step function $\\Theta(\\chi_s - \\chi)$ is there to ensure that the lensing can’t have a contribution from before the source existed. We can control this via integration, so we'll let $\\Theta(\\chi_s - \\chi) = 1$, leaving us with:\n",
    "\n",
    "$$W(\\chi, \\chi_s) = \\frac{\\chi_s - \\chi}{\\chi\\chi_s}$$"
   ]
  },
  {
   "cell_type": "code",
   "execution_count": 9,
   "metadata": {},
   "outputs": [],
   "source": [
    "def lensing_function(chi, chi_s):\n",
    "    \"\"\"\n",
    "    Find the lensing function W(chi, chi_s)\n",
    "    \"\"\"\n",
    "    return (chi_s - chi) / (chi * chi_s)"
   ]
  },
  {
   "attachments": {},
   "cell_type": "markdown",
   "metadata": {},
   "source": [
    "The redshift of the CMB is apparently $z_{CMB} = 1089$, so:"
   ]
  },
  {
   "attachments": {},
   "cell_type": "markdown",
   "metadata": {},
   "source": [
    "Combining everything together:\n",
    "\n",
    "$$B_{\\ell_1, \\ell_2, \\ell_3} = \\int_0^{\\chi_s} d\\chi \\left[\\frac{3\\Omega_M H_0^2}{2a(\\chi)}\\right]^3 \\chi^2 W^3(\\chi, \\chi_s) B_{\\delta}\\left(\\frac{\\ell_1}{\\chi}, \\frac{\\ell_2}{\\chi}, \\frac{\\ell_3}{\\chi}, \\chi\\right)$$"
   ]
  },
  {
   "cell_type": "code",
   "execution_count": 10,
   "metadata": {},
   "outputs": [],
   "source": [
    "def _convergence_integrand(chi, P_k, l1, l2, l3, z_int, chi_s):\n",
    "    \"\"\"\n",
    "    Convergence integrand for integration\n",
    "\n",
    "    Parameters:\n",
    "\n",
    "    Returns:\n",
    "    \"\"\"\n",
    "    a_chi = compute_scale_factor(z_int(chi))\n",
    "\n",
    "    B_delta = compute_B_delta(chi, P_k, l1/chi, l2/chi, l3/chi, z_int)\n",
    "\n",
    "    W_chi = lensing_function(chi, chi_s)\n",
    "\n",
    "    return a_chi**(-3) * chi**2 * W_chi**3 * B_delta"
   ]
  },
  {
   "cell_type": "code",
   "execution_count": 11,
   "metadata": {},
   "outputs": [],
   "source": [
    "from scipy.integrate import quad\n",
    "\n",
    "# def integrand(integration_variable, b, c ,d ,e ,f)\n",
    "# romberg( integrand, 0, 1, args= (b,c,d,e,f))\n",
    "\n",
    "def compute_convergence_bispec(l1, l2, l3, P_k, z_int, z_s, chi_s, lb):\n",
    "    \"\"\"\n",
    "    Compute convergence bispec. Will finish docstring later.\n",
    "    \"\"\"\n",
    "    Omega_m = cosmo.Om0 # this is O_M,0\n",
    "    H0 = cosmo.H0.value\n",
    "    c_km = c.to(u.km/u.s).value\n",
    "\n",
    "    coefficient = ((3 * Omega_m * H0**2/c_km**2)/2)**3\n",
    "\n",
    "    bispec = quad(_convergence_integrand, lb, chi_s, args=(P_k, l1, l2, l3, z_int, chi_s))[0]\n",
    "\n",
    "    return coefficient * bispec"
   ]
  },
  {
   "attachments": {},
   "cell_type": "markdown",
   "metadata": {},
   "source": [
    "Next step:\n",
    "\n",
    "- Diagram --> code being repeated (helper funcs?), take things that can be passed in as an argument outside to the wrapping loop function\n",
    "- Write a wrapping loop function to compute bls across range of $\\ell$ values\n",
    "\n",
    "Question:\n",
    "- $\\Omega_m$ and $a$ dependent on $\\chi$?"
   ]
  },
  {
   "cell_type": "code",
   "execution_count": 12,
   "metadata": {},
   "outputs": [],
   "source": [
    "def cumulative_convergence_bispec(lmax, lmin=1, nstep=1, lb=1, z_s=2):\n",
    "    \"\"\"\n",
    "    Equilateral cumulative convergence bispec calculator.\n",
    "    \"\"\"\n",
    "    kmax = lmax / lb\n",
    "    P_k = create_pk(z_s, kmax)\n",
    "    chi_int, z_int = interp_chi_and_z(z_s)\n",
    "    chi_s = chi_int(z_s)\n",
    "    \n",
    "    # I can move coefficient computation here, but check question above\n",
    "    ells = np.arange(lmin, lmax, nstep)\n",
    "\n",
    "    Bls = np.zeros_like(ells, dtype=np.float64)\n",
    "    hs = np.zeros_like(ells, dtype=np.float64)\n",
    "    for i, l in enumerate(ells):\n",
    "        if bispec.check_valid_triangle(l, l, l):\n",
    "            hs[i] = np.sqrt(bispec.compute_bispec_norm_factor(l, l, l))\n",
    "            Bls[i] = compute_convergence_bispec(l, l, l, P_k, z_int, z_s, chi_s, lb)\n",
    "    \n",
    "    return ells, hs, Bls"
   ]
  },
  {
   "cell_type": "code",
   "execution_count": 13,
   "metadata": {},
   "outputs": [
    {
     "name": "stderr",
     "output_type": "stream",
     "text": [
      "/tmp/ipykernel_53705/1825878608.py:16: IntegrationWarning: The occurrence of roundoff error is detected, which prevents \n",
      "  the requested tolerance from being achieved.  The error may be \n",
      "  underestimated.\n",
      "  bispec = quad(_convergence_integrand, lb, chi_s, args=(P_k, l1, l2, l3, z_int, chi_s))[0]\n",
      "/tmp/ipykernel_53705/1825878608.py:16: IntegrationWarning: The maximum number of subdivisions (50) has been achieved.\n",
      "  If increasing the limit yields no improvement it is advised to analyze \n",
      "  the integrand in order to determine the difficulties.  If the position of a \n",
      "  local difficulty can be determined (singularity, discontinuity) one will \n",
      "  probably gain from splitting up the interval and calling the integrator \n",
      "  on the subranges.  Perhaps a special-purpose integrator should be used.\n",
      "  bispec = quad(_convergence_integrand, lb, chi_s, args=(P_k, l1, l2, l3, z_int, chi_s))[0]\n"
     ]
    }
   ],
   "source": [
    "ells, hs, Bls = cumulative_convergence_bispec(1000, lmin=2, nstep=10, z_s =1100. )"
   ]
  },
  {
   "cell_type": "code",
   "execution_count": 14,
   "metadata": {},
   "outputs": [
    {
     "data": {
      "text/plain": [
       "[<matplotlib.lines.Line2D at 0x7f38dc3c5af0>]"
      ]
     },
     "execution_count": 14,
     "metadata": {},
     "output_type": "execute_result"
    },
    {
     "data": {
      "image/png": "[encoded data removed]",
      "text/plain": [
       "<Figure size 864x432 with 1 Axes>"
      ]
     },
     "metadata": {
      "needs_background": "light"
     },
     "output_type": "display_data"
    }
   ],
   "source": [
    "plt.figure(figsize=(12,6))\n",
    "bls = ells**2 * (1/hs) * Bls\n",
    "plt.plot(ells[np.isfinite(bls)], bls[np.isfinite(bls)])"
   ]
  },
  {
   "attachments": {},
   "cell_type": "markdown",
   "metadata": {},
   "source": [
    "Next steps:\n",
    "\n",
    "- Double check the $h$ factors\n",
    "- Power spectrum still looks off relative to the CCL one, so double check that -- review CAMB tutorial to make sure nothing is wrong / maybe swap out with the CCL one\n",
    "- Check units in the `cumulative` function. A factor of $10^{10}$ could just be a unit offset.\n",
    "    - Go through paper again and compare formulae to Python functions\n",
    "    - Coefficient is being multiplied not divided.\n",
    "    - Usually the little things.\n",
    "- Check the $\\cos\\theta$ factor in the $F_2$ function and the $z_s$ and $\\chi_s$. i.e. make sure the $\\chi_s$ is being used where it should and the $\\chi$ is being used where it should.\n",
    "\n",
    "Message Patricia about writing outline."
   ]
  },
  {
   "cell_type": "code",
   "execution_count": 15,
   "metadata": {},
   "outputs": [],
   "source": [
    "z_s = 200.\n",
    "P_k = create_pk(z_s, kmax)\n",
    "chi_int, z_int = interp_chi_and_z(z_s)\n",
    "chi_s = chi_int(z_s)\n",
    "\n",
    "z_plot = 0.541\n",
    "chi = chi_int(z_plot)"
   ]
  },
  {
   "cell_type": "code",
   "execution_count": 16,
   "metadata": {},
   "outputs": [],
   "source": [
    "ells = np.arange(1, 2000)\n",
    "ks = ells/chi\n",
    "\n",
    "b_delta = [compute_B_delta(chi, P_k, ks[i], ks[i], ks[i], z_int) for i, _ in enumerate(ells)]"
   ]
  },
  {
   "cell_type": "code",
   "execution_count": 17,
   "metadata": {},
   "outputs": [
    {
     "data": {
      "text/plain": [
       "[<matplotlib.lines.Line2D at 0x7f38dc32b250>]"
      ]
     },
     "execution_count": 17,
     "metadata": {},
     "output_type": "execute_result"
    },
    {
     "data": {
      "image/png": "[encoded data removed]",
      "text/plain": [
       "<Figure size 864x432 with 1 Axes>"
      ]
     },
     "metadata": {
      "needs_background": "light"
     },
     "output_type": "display_data"
    }
   ],
   "source": [
    "h = 0.6766\n",
    "\n",
    "plt.figure(figsize=(12,6))\n",
    "\n",
    "# plt.plot(ells, ks**(8) * b_delta)\n",
    "# plt.plot(ells, ks**(-4) * b_delta)\n",
    "plt.plot(ells, ks**(2) * b_delta * 10**(-5))"
   ]
  },
  {
   "attachments": {},
   "cell_type": "markdown",
   "metadata": {},
   "source": [
    "What to check:\n",
    "\n",
    "- When computing the matter bispectrum pre-integral and converting to $B_{\\ell}$, plot bispectrum vals (and look out for extra $\\ell$ scale factors), i.e. check piece-by-piece for the `compute_convergence_bispectrum` function.\n",
    "- Probable issue is a missing $k^p$ factor somewhere to look out for (since the cumulative bispectrum is exponential decaying a lot more strongly than it should)\n",
    "- Could be $h$, $b$, $k$, or even the window function. Compare against current literature to check"
   ]
  },
  {
   "cell_type": "code",
   "execution_count": 18,
   "metadata": {},
   "outputs": [],
   "source": [
    "def plot_pk(k, pk, pk_2, figsize=(12,6), xscale='log',\n",
    "                        yscale='log', xlabel='$k\\quad[Mpc^{-1}]$', \n",
    "                        ylabel='$P(k)\\quad[{\\\\rm Mpc}]^3$', title=\"Power Spectrum\",\n",
    "                        label1=\"Power Spectrum 1\", label2=\"Power Spectrum 2\"):\n",
    "    '''\n",
    "    Plots the Power Spectrum in k-space\n",
    "\n",
    "    Parameters\n",
    "    ------------\n",
    "    k : k-modes\n",
    "    pk_lin : linear power spectrum P(k)\n",
    "    pk_nl : non-linear power spectrum\n",
    "    figsize : defaults to (12,6)\n",
    "    xscale : defaults to log-scale\n",
    "    yscale : defaults to log-scale\n",
    "    xlabel : xlabel\n",
    "    ylabel : ylabel\n",
    "    title : title\n",
    "    '''\n",
    "\n",
    "    plt.figure(figsize=figsize)\n",
    "    plt.plot(k, pk, 'b-', label=label1)\n",
    "\n",
    "    if pk_2 is not None:\n",
    "        plt.plot(k, pk_2, 'r-', label=label2)\n",
    "\n",
    "    plt.xscale(xscale)\n",
    "    plt.yscale(yscale)\n",
    "    plt.xlabel(xlabel, fontsize=18)\n",
    "    plt.ylabel(ylabel, fontsize=18)\n",
    "    plt.title(title, fontsize=18)\n",
    "    plt.xticks(fontsize=14)\n",
    "    plt.yticks(fontsize=14)\n",
    "\n",
    "    plt.legend(frameon=False, loc='upper right', fontsize=14)\n",
    "    plt.show()"
   ]
  },
  {
   "cell_type": "code",
   "execution_count": 19,
   "metadata": {},
   "outputs": [
    {
     "data": {
      "image/png": "[encoded data removed]",
      "text/plain": [
       "<Figure size 864x432 with 1 Axes>"
      ]
     },
     "metadata": {
      "needs_background": "light"
     },
     "output_type": "display_data"
    }
   ],
   "source": [
    "from helper_funcs import *\n",
    "\n",
    "ks = np.logspace(-3, 1, 100)\n",
    "\n",
    "# Using Planck 2018 parameters\n",
    "cosmo = ccl.Cosmology(Omega_c=0.26067, Omega_b=0.049,\n",
    "                            h=0.6766, n_s=0.9665, sigma8=0.8102,\n",
    "                            transfer_function='boltzmann_camb')\n",
    "\n",
    "z = 2\n",
    "pk_lin_1 = P_k.P(z, ks)\n",
    "pk_lin_2 = ccl.linear_matter_power(cosmo, ks, compute_scale_factor(z))\n",
    "\n",
    "plot_pk(ks, pk_lin_1, pk_lin_2, title=\"Linear Power Spectrum\", label1=\"Interpolated Power Spectrum\", label2=\"CCL Power Spectrum\")"
   ]
  },
  {
   "cell_type": "code",
   "execution_count": 20,
   "metadata": {},
   "outputs": [],
   "source": [
    "def plot_bispec_eq(bls, ells,\n",
    "                   figsize=(12,6), \n",
    "                   lmin=0, xlmax=None,\n",
    "                   xscale='linear', yscale='linear',\n",
    "                   xlabel=\"even multipole triplet $(\\ell_1, \\ell_2, \\ell_3)$\",\n",
    "                   ylabel=\"$B_{(\\ell_1, \\ell_2, \\ell_3)}$\",\n",
    "                   title=\"Bispectrum\", scheme='e'):\n",
    "    if scheme == 'e':\n",
    "        plt.figure(figsize=figsize)\n",
    "        plt.plot(ells, bls)\n",
    "        plt.legend(frameon=False, loc='upper right', fontsize=14)\n",
    "        plt.xscale(xscale)\n",
    "        plt.yscale(yscale)\n",
    "        plt.ylabel(ylabel, fontsize=18)\n",
    "        plt.xlabel(xlabel, fontsize=18)\n",
    "        plt.title(title, fontsize=18)\n",
    "        plt.xticks(fontsize=18)\n",
    "        plt.yticks(fontsize=18)\n",
    "        plt.show()"
   ]
  }
 ],
 "metadata": {
  "kernelspec": {
   "display_name": "base",
   "language": "python",
   "name": "python3"
  },
  "language_info": {
   "codemirror_mode": {
    "name": "ipython",
    "version": 3
   },
   "file_extension": ".py",
   "mimetype": "text/x-python",
   "name": "python",
   "nbconvert_exporter": "python",
   "pygments_lexer": "ipython3",
   "version": "3.9.12"
  },
  "orig_nbformat": 4
 },
 "nbformat": 4,
 "nbformat_minor": 2
}
