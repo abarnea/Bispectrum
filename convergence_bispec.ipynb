{
 "cells": [
  {
   "attachments": {},
   "cell_type": "markdown",
   "metadata": {},
   "source": [
    "## Convergence Bispectrum Calculations"
   ]
  },
  {
   "cell_type": "code",
   "execution_count": 2,
   "metadata": {},
   "outputs": [],
   "source": [
    "import numpy as np\n",
    "import healpy as hp\n",
    "import bispec_calculator as bispec\n",
    "from helper_funcs import *"
   ]
  },
  {
   "attachments": {},
   "cell_type": "markdown",
   "metadata": {},
   "source": [
    "First thing we need to do is calculate $B_{\\delta}(\\mathbf{k}_1, \\mathbf{k}_2, \\mathbf{k}_3; \\chi)$, which is given by:\n",
    "\n",
    "$$B_{\\delta}(\\mathbf{k}_1, \\mathbf{k}_2, \\mathbf{k}_3; \\chi) = 2F_2(\\mathbf{k}_1, \\mathbf{k}_2, z)P_{\\delta}(\\mathbf{k}_1,z)P_{\\delta}(\\mathbf{k_z},z) + \\text{cyc. perm}$$\n",
    "\n",
    "such that:\n",
    "\n",
    "$$F_2(\\mathbf{k}_1, \\mathbf{k}_2, z) = \\frac57 a(k_1, z)a(k_2, z) + \\frac12 \\frac{k_1^2 + k_2^2}{k_1k_2}b(k_1, z)b (k_2,z)\\cos\\theta + \\frac27 c(k_1, z)c(k_2,z)$$\n",
    "\n",
    "where we're using $a = b = c = 1$, giving us:\n",
    "\n",
    "$$F_2(\\mathbf{k}_1, \\mathbf{k}_2, z) = \\frac57 + \\frac12 \\frac{k_1^2 + k_2^2}{k_1k_2}\\cos\\theta + \\frac27$$\n",
    "\n",
    "We'll need this for every cyclic permutation, so let's code up a general function to solve for $F_2$:"
   ]
  },
  {
   "cell_type": "code",
   "execution_count": 2,
   "metadata": {},
   "outputs": [],
   "source": [
    "# F2 function\n",
    "def F2(k1, k2, z=0.):\n",
    "    return 5/7 + 1/2 * (k1**2 + k2**2)/(k1 * k2) + 2/7"
   ]
  },
  {
   "attachments": {},
   "cell_type": "markdown",
   "metadata": {},
   "source": [
    "Now, since the source plan is just the CMB plane here, then we can find the comoving distance by converting the redshift of the CMB plane to comoving distance:"
   ]
  },
  {
   "cell_type": "code",
   "execution_count": 9,
   "metadata": {},
   "outputs": [],
   "source": [
    "from scipy.integrate import romberg\n",
    "from scipy import interpolate\n",
    "# from astropy.cosmology import WMAP9 as cosmo\n",
    "from astropy.constants import c\n",
    "from astropy.units import u\n",
    "\n",
    "def find_chi_from_z(z: int) -> float:\n",
    "    \"\"\"\n",
    "    Finds the comoving distance from redshift\n",
    "\n",
    "    Parameters:\n",
    "        z (int) : redshift\n",
    "    \n",
    "    Returns:\n",
    "        chi_from_z (float) : comoving distance\n",
    "    \"\"\"\n",
    "    c_km = c.to(u.km/u.s).value\n",
    "\n",
    "    def _invH(z):\n",
    "        return c_km/cosmo.H(z).value\n",
    "\n",
    "    zs = np.logspace(-2, 3, 1000)\n",
    "    dcm = np.zeros_like(zs)\n",
    "\n",
    "    for i,z in enumerate(zs):\n",
    "        dcm[i] = romberg(_invH, 0, z, tol=1e-6)[0]\n",
    "\n",
    "    chi = interpolate.interp1d(zs, dcm, bounds_error=False, fill_value = 0)\n",
    "\n",
    "    return chi"
   ]
  },
  {
   "cell_type": "code",
   "execution_count": 10,
   "metadata": {},
   "outputs": [],
   "source": [
    "def compute_scale_factor(z: int) -> float:\n",
    "    \"\"\"\n",
    "    Finds the scale factor a(z) from z.\n",
    "\n",
    "    Parameters:\n",
    "        z (int) : redshift\n",
    "\n",
    "    Returns:\n",
    "        a (float) : scale factor\n",
    "    \"\"\"\n",
    "    return 1 / (1 + z)"
   ]
  }
 ],
 "metadata": {
  "kernelspec": {
   "display_name": "base",
   "language": "python",
   "name": "python3"
  },
  "language_info": {
   "codemirror_mode": {
    "name": "ipython",
    "version": 3
   },
   "file_extension": ".py",
   "mimetype": "text/x-python",
   "name": "python",
   "nbconvert_exporter": "python",
   "pygments_lexer": "ipython3",
   "version": "3.9.12"
  },
  "orig_nbformat": 4
 },
 "nbformat": 4,
 "nbformat_minor": 2
}
