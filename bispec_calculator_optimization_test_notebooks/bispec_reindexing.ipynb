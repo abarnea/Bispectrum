{
 "cells": [
  {
   "cell_type": "code",
   "execution_count": 14,
   "metadata": {},
   "outputs": [],
   "source": [
    "import numpy as np\n",
    "import healpy as hp\n",
    "from numba import jit, njit, prange, set_num_threads\n",
    "from numba.typed import List, Dict\n",
    "from tqdm.notebook import tqdm\n",
    "from helper_funcs import *\n",
    "import bispec_calculator as bispec"
   ]
  },
  {
   "cell_type": "code",
   "execution_count": 15,
   "metadata": {},
   "outputs": [],
   "source": [
    "def sort_alms(alms, lmax):\n",
    "    '''\n",
    "    Sorts healpix alm's by \\ell instead of m given a fortran90 array output from hp.map2alm.\n",
    "\n",
    "    Parameters\n",
    "    ----------\n",
    "    alms : fortran90 healpix alm array from hp.map2alm\n",
    "    num_ls : number of l's in alms array\n",
    "    \n",
    "    Returns\n",
    "    ----------\n",
    "    sorted_alms : alm dictionary keyed by ell values with numpy arrays \n",
    "                    consisting of the corresponding m values.\n",
    "    '''\n",
    "    start = 0\n",
    "    sorted_alms = {}\n",
    "\n",
    "    for l in range(lmax + 1):\n",
    "        sorted_alms[l] = np.zeros(2*l+1, dtype=np.cdouble)\n",
    "\n",
    "    for m in range(lmax + 1):\n",
    "        num_ms = lmax + 1 - m\n",
    "        ms = alms[start:num_ms + start]\n",
    "        start = num_ms + start\n",
    "        m_sign = (-1)**m\n",
    "        for l in range(num_ms):\n",
    "            idx = m + l\n",
    "            sorted_alms[idx][m] = ms[l]\n",
    "            if m != 0:\n",
    "                sorted_alms[idx][-m] = m_sign * np.conj(ms[l])\n",
    "    \n",
    "    return sorted_alms"
   ]
  },
  {
   "cell_type": "code",
   "execution_count": 16,
   "metadata": {},
   "outputs": [],
   "source": [
    "def unsort_alms(sorted_alms):\n",
    "    \"\"\"\n",
    "    Unsorts a sorted_alm dictionary from sorted_alms into a Fortran90\n",
    "    array that can be processed by HEALPix.\n",
    "\n",
    "    Inputs:\n",
    "        sorted_alms (dict[ndarray]) : sorted alms from sort_alms\n",
    "\n",
    "    Returns:\n",
    "        (ndarray) : unsorted alms for HEALPix\n",
    "    \"\"\"\n",
    "    ells = np.array(list(sorted_alms.keys()))\n",
    "    lmax = ells[-1]\n",
    "    unsorted_alms = np.zeros(np.sum(ells + 1), dtype=np.complex128)\n",
    "\n",
    "    start = 0\n",
    "    for m in range(lmax + 1):\n",
    "        for ell in range(m, lmax + 1):\n",
    "            unsorted_alms[start + ell] = sorted_alms[ell][m]\n",
    "        start += lmax - m\n",
    "    \n",
    "    return unsorted_alms"
   ]
  },
  {
   "cell_type": "code",
   "execution_count": 17,
   "metadata": {},
   "outputs": [],
   "source": [
    "def filter_map_binned(sorted_alms, i_bins, nside=1024):\n",
    "    \"\"\"\n",
    "    Map alms that have been binned and filtered.\n",
    "\n",
    "    Inputs:\n",
    "        sorted_alms (dict) : dictionary of sorted alms\n",
    "        i_bins (ndarray) : ibins\n",
    "    \n",
    "    Returns:\n",
    "        (ndarray) : healpix map of filtered alms\n",
    "    \"\"\"\n",
    "    lmax = max(sorted_alms.keys())\n",
    "    filtered_alms = {}\n",
    "    for ell in range(lmax + 1):\n",
    "        filtered_alms[ell] = np.zeros(2 * ell + 1, dtype=np.cdouble)\n",
    "\n",
    "    for ell in i_bins:\n",
    "        filtered_alms[ell] = sorted_alms[ell]\n",
    "    \n",
    "    return hp.alm2map(unsort_alms(filtered_alms), nside=nside)"
   ]
  },
  {
   "cell_type": "code",
   "execution_count": 18,
   "metadata": {},
   "outputs": [],
   "source": [
    "lmax = 1024\n",
    "ells = np.arange(1, lmax+1)\n",
    "\n",
    "cls = (ells + 0.0)**(-3.)\n",
    "\n",
    "theory_map, alms = hp.sphtfunc.synfast(cls=cls, nside=1024, lmax=lmax, alm=True)"
   ]
  },
  {
   "cell_type": "code",
   "execution_count": 19,
   "metadata": {},
   "outputs": [],
   "source": [
    "lmin_bin = 2\n",
    "lmax_bin = 10\n",
    "\n",
    "bin1, _, _ = bispec.select_bins(lmin_bin, lmax_bin)"
   ]
  },
  {
   "cell_type": "code",
   "execution_count": 20,
   "metadata": {},
   "outputs": [],
   "source": [
    "lmax = hp.Alm.getlmax(alms.size)"
   ]
  },
  {
   "cell_type": "code",
   "execution_count": 21,
   "metadata": {},
   "outputs": [],
   "source": [
    "bin1_max = bin1.max()"
   ]
  },
  {
   "cell_type": "code",
   "execution_count": 22,
   "metadata": {},
   "outputs": [
    {
     "data": {
      "text/plain": [
       "array([2., 3., 4., 5., 6., 7., 8., 9.])"
      ]
     },
     "execution_count": 22,
     "metadata": {},
     "output_type": "execute_result"
    }
   ],
   "source": [
    "bin1"
   ]
  },
  {
   "cell_type": "code",
   "execution_count": 23,
   "metadata": {},
   "outputs": [],
   "source": [
    "ell = 9\n",
    "\n",
    "indices = hp.Alm.getidx(lmax, ell, np.arange(-ell, ell + 1)).astype(int)"
   ]
  },
  {
   "cell_type": "code",
   "execution_count": 24,
   "metadata": {},
   "outputs": [],
   "source": [
    "ms = np.arange(-ell, ell + 1)\n",
    "indices = hp.Alm.getidx(lmax, ell, ms)"
   ]
  },
  {
   "cell_type": "code",
   "execution_count": 25,
   "metadata": {},
   "outputs": [
    {
     "data": {
      "text/plain": [
       "array([-9252, -8219, -7187, -6156, -5126, -4097, -3069, -2042, -1016,\n",
       "           9,  1033,  2056,  3078,  4099,  5119,  6138,  7156,  8173,\n",
       "        9189])"
      ]
     },
     "execution_count": 25,
     "metadata": {},
     "output_type": "execute_result"
    }
   ],
   "source": [
    "indices"
   ]
  },
  {
   "cell_type": "code",
   "execution_count": 32,
   "metadata": {},
   "outputs": [],
   "source": [
    "def filter_alms_no_dict(alms, bins):\n",
    "    \"\"\"\n",
    "    Filters alms without using dictionaries.\n",
    "\n",
    "    Parameters:\n",
    "        alms (ndarray) : alms\n",
    "        bins (ndarray) : bins\n",
    "    \n",
    "    Returns:\n",
    "        filtered_alms (ndarray) : filtered alms\n",
    "    \"\"\"\n",
    "    lmax = hp.Alm.getlmax(alms.size)\n",
    "    filtered_alms = np.zeros_like(alms)\n",
    "    for ell in bins:\n",
    "        indices = hp.Alm.getidx(lmax, ell, ms).astype(int)\n",
    "        filtered_alms[indices] = alms[indices]\n",
    "    return filtered_alms"
   ]
  },
  {
   "cell_type": "code",
   "execution_count": 33,
   "metadata": {},
   "outputs": [],
   "source": [
    "filtered_alms = filter_alms_no_dict(alms, bin1)"
   ]
  }
 ],
 "metadata": {
  "kernelspec": {
   "display_name": "Python 3 (ipykernel)",
   "language": "python",
   "name": "python3"
  },
  "language_info": {
   "codemirror_mode": {
    "name": "ipython",
    "version": 3
   },
   "file_extension": ".py",
   "mimetype": "text/x-python",
   "name": "python",
   "nbconvert_exporter": "python",
   "pygments_lexer": "ipython3",
   "version": "3.9.12"
  },
  "vscode": {
   "interpreter": {
    "hash": "c71467c1cead1faa151a2e40e8c8dc7122fa70e94f152c28cbbc4540833ad705"
   }
  }
 },
 "nbformat": 4,
 "nbformat_minor": 2
}
