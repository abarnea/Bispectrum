{
 "cells": [
  {
   "cell_type": "code",
   "execution_count": 1,
   "metadata": {},
   "outputs": [],
   "source": [
    "import matplotlib.pyplot as plt\n",
    "\n",
    "%matplotlib inline\n",
    "\n",
    "import numpy as np\n",
    "import healpy as hp\n",
    "import pickle\n",
    "import numba as nb\n",
    "import spherical\n",
    "import pywigxjpf\n",
    "import pywigxjpf_ffi\n",
    "import numba_progress\n",
    "import math\n",
    "import scipy\n",
    "import time\n",
    "\n",
    "from tqdm.notebook import tqdm\n",
    "from spherical import Wigner3j\n",
    "from scipy import stats\n",
    "from numba import jit, njit, prange, set_num_threads\n",
    "from numba_progress import ProgressBar\n",
    "from numba.core.typing import cffi_utils as cffi_support\n",
    "\n",
    "try:\n",
    "    from pywigxjpf_ffi import ffi, lib\n",
    "except ImportError:\n",
    "    from pywigxjpf.pywigxjpf_ffi import ffi, lib\n",
    "\n",
    "cffi_support.register_module(pywigxjpf_ffi)\n",
    "\n",
    "nb_wig3jj = pywigxjpf_ffi.lib.wig3jj\n",
    "\n",
    "from helper_funcs import *"
   ]
  },
  {
   "cell_type": "code",
   "execution_count": 2,
   "metadata": {},
   "outputs": [
    {
     "name": "stdout",
     "output_type": "stream",
     "text": [
      "0.2357022603955158\n",
      "-0.07142857142857142\n",
      "0.004661585414003767\n",
      "0.004661585414003767\n",
      "-0.07142857142857142\n"
     ]
    }
   ],
   "source": [
    "lib.wig_table_init(100,9)\n",
    "lib.wig_temp_init(100)\n",
    "\n",
    "print(lib.wig3jj(5,6,7,3,4,-7))\n",
    "print(lib.wig6jj(6,6,6,6,6,6))\n",
    "print(lib.wig9jj(6,6,6,7,7,6,7,7,8))\n",
    "print(lib.wig9jj(6,6,6,7,7,6,7,7,8))\n",
    "print(lib.wig6jj(6,6,6,6,6,int(4+0.5*4)))"
   ]
  },
  {
   "cell_type": "code",
   "execution_count": 3,
   "metadata": {},
   "outputs": [],
   "source": [
    "# Benchmark 1, make calls for a lot of trivially-0 symbols.\n",
    "@njit\n",
    "def benchmark(jjmax):\n",
    "    sum = 0.0\n",
    "    calls = 0\n",
    "    for jj1 in range(0, jjmax + 1):\n",
    "        for jj2 in range(0, jjmax + 1):\n",
    "            for jj3 in range(0, jjmax + 1):\n",
    "                for mm1 in range(-jjmax, jjmax + 1):\n",
    "                    for mm2 in range(-jjmax, jjmax + 1):\n",
    "                        for mm3 in range(-jjmax, jjmax + 1):\n",
    "                            w = nb_wig3jj(jj1, jj2, jj3, \\\n",
    "                                           mm1, mm2, mm3)\n",
    "                            # print((w)\n",
    "                            sum = sum + w\n",
    "                            calls = calls+1\n",
    "    return (sum,calls)\n",
    "\n",
    "# Benchmark 2, avoiding trivial 0 by triangle rules.\n",
    "@njit\n",
    "def benchmark_opt(jjmax):\n",
    "    sum = 0.0\n",
    "    calls = 0\n",
    "    for jj1 in range(0, jjmax + 1, 1):\n",
    "        for jj2 in range(0, jjmax + 1, 1):\n",
    "            jj3_min = abs(jj1-jj2)\n",
    "            jj3_max = jj1+jj2\n",
    "            if (jj3_max > jjmax):\n",
    "                jj3_max = jjmax\n",
    "            for jj3 in range(jj3_min, jj3_max + 1, 2):\n",
    "                for mm1 in range(-jj1, jj1 + 1, 2):\n",
    "                    for mm2 in range(-jj2, jj2 + 1, 2):\n",
    "                        #for m3 in range(-j3, j3 + 1):\n",
    "                        mm3 = -mm1-mm2\n",
    "                        if (abs(mm3) <= jjmax):\n",
    "                            w = nb_wig3jj(jj1, jj2, jj3, \\\n",
    "                                           mm1, mm2, mm3)\n",
    "                            sum = sum + w\n",
    "                            calls = calls+1\n",
    "    return (sum,calls)"
   ]
  },
  {
   "cell_type": "code",
   "execution_count": 4,
   "metadata": {},
   "outputs": [
    {
     "name": "stdout",
     "output_type": "stream",
     "text": [
      "Benchmark 1 for jjmax=10, sum=3.5305263227, time=0.51836s, time/call=  42ns [12326391 calls]\n",
      "Benchmark 1 for jjmax=10, sum=3.5305263227, time=0.32428s, time/call=  26ns [12326391 calls]\n",
      "Benchmark 1 for jjmax=10, sum=3.5305263227, time=0.32342s, time/call=  26ns [12326391 calls]\n",
      "Benchmark 1 for jjmax=10, sum=3.5305263227, time=0.32205s, time/call=  26ns [12326391 calls]\n",
      "Benchmark 1 for jjmax=10, sum=3.5305263227, time=0.32293s, time/call=  26ns [12326391 calls]\n",
      "Benchmark 2 for jjmax=10, sum=3.5305263227, time=0.27278s, time/call=17627ns [15475 calls]\n",
      "Benchmark 2 for jjmax=10, sum=3.5305263227, time=0.00278s, time/call= 179ns [15475 calls]\n",
      "Benchmark 2 for jjmax=10, sum=3.5305263227, time=0.00279s, time/call= 180ns [15475 calls]\n",
      "Benchmark 2 for jjmax=10, sum=3.5305263227, time=0.00271s, time/call= 175ns [15475 calls]\n",
      "Benchmark 2 for jjmax=10, sum=3.5305263227, time=0.00267s, time/call= 172ns [15475 calls]\n",
      "Done\n"
     ]
    }
   ],
   "source": [
    "jjmax=10\n",
    "\n",
    "for i in range(0,5):\n",
    "    start_time = time.time()\n",
    "    wigsum, total_calls = benchmark(jjmax)\n",
    "    total_time = time.time()-start_time\n",
    "    print(\"Benchmark 1 for jjmax=%d, sum=%.10f, time=%.5fs, \"\n",
    "          \"time/call=%4.0fns [%d calls]\" %\n",
    "          (jjmax, wigsum, total_time, total_time/total_calls*1e9, total_calls))\n",
    "\n",
    "for i in range(0,5):\n",
    "    start_time = time.time()\n",
    "    wigsum, total_calls = benchmark_opt(jjmax)\n",
    "    total_time = time.time()-start_time\n",
    "    print(\"Benchmark 2 for jjmax=%d, sum=%.10f, time=%.5fs, \"\n",
    "          \"time/call=%4.0fns [%d calls]\" %\n",
    "          (jjmax, wigsum, total_time, total_time/total_calls*1e9, total_calls))\n",
    "\n",
    "lib.wig_temp_free()\n",
    "lib.wig_table_free()\n",
    "\n",
    "print('Done')"
   ]
  },
  {
   "cell_type": "code",
   "execution_count": 5,
   "metadata": {},
   "outputs": [],
   "source": [
    "lmax = 1000\n",
    "\n",
    "ells = np.arange(lmax+1)\n",
    "\n",
    "cls = np.zeros_like(ells, dtype='float')\n",
    "\n",
    "for l in ells[1:]:\n",
    "    cls[l] = (l+0.0)**(-3.)\n",
    "\n",
    "theory_map, alms = hp.sphtfunc.synfast(cls=cls, nside=1024, lmax=np.max(ells), alm=True)\n",
    "\n",
    "sorted_alms = sort_alms(alms, len(cls))"
   ]
  },
  {
   "cell_type": "code",
   "execution_count": 25,
   "metadata": {},
   "outputs": [],
   "source": [
    "@njit(parallel=True)\n",
    "def compute_bispec_wig(l1, l2, l3, alms_l1, alms_l2, alms_l3, num_threads=16):\n",
    "\n",
    "    assert (l1 + l2 + l3) % 2 == 0, \"even parity not satisfied\" # even parity\n",
    "    assert np.abs(l1-l2) <= l3 <= l1+l2, \"triangle inequality not satisfied\" # triangle inequality\n",
    "\n",
    "    bispec_sum = 0\n",
    "    val_init = (max(l1, l2, l3) + 1) * 2\n",
    "\n",
    "    set_num_threads(num_threads) # set for Roomba to be 16 threads max\n",
    "\n",
    "    lib.wig_table_init(val_init, 3)\n",
    "\n",
    "    lib.wig_temp_init(val_init)\n",
    "    norm_factor = ((l1*2+1) * (l2*2+1) * (l3*2+1))/(4*np.pi) \\\n",
    "                        * (nb_wig3jj(2*l1, 2*l2, 2*l3, 0, 0, 0))**2\n",
    "    lib.wig_temp_free()\n",
    "\n",
    "    if not norm_factor:\n",
    "        return 0\n",
    "\n",
    "    for m1 in prange(-l1, l1+1):\n",
    "        lib.wig_temp_init(val_init)\n",
    "        for m2 in range(-l2, l2+1):\n",
    "            m3 = -(m1 + m2) # noting that m1 + m2 + m3 == 0\n",
    "            w3j = nb_wig3jj(2*l1, 2*l2, 2*l3, 2*m1, 2*m2, 2*m3)\n",
    "            if w3j:\n",
    "                exp_alms = alms_l1[m1] * alms_l2[m2] * alms_l3[m3]\n",
    "                bispec_sum += w3j * np.abs(exp_alms)\n",
    "        lib.wig_temp_free()\n",
    "    \n",
    "    lib.wig_table_free()\n",
    "\n",
    "    return np.sqrt(norm_factor) * bispec_sum"
   ]
  },
  {
   "cell_type": "code",
   "execution_count": 27,
   "metadata": {},
   "outputs": [
    {
     "name": "stdout",
     "output_type": "stream",
     "text": [
      "9.850683559600588e-06\n"
     ]
    }
   ],
   "source": [
    "l1, l2, l3 = 10, 20, 30\n",
    "\n",
    "b_wig = compute_bispec_wig(l1, l2, l3, sorted_alms[l1], sorted_alms[l2], sorted_alms[l3])\n",
    "\n",
    "print(b_wig)"
   ]
  }
 ],
 "metadata": {
  "kernelspec": {
   "display_name": "base",
   "language": "python",
   "name": "python3"
  },
  "language_info": {
   "codemirror_mode": {
    "name": "ipython",
    "version": 3
   },
   "file_extension": ".py",
   "mimetype": "text/x-python",
   "name": "python",
   "nbconvert_exporter": "python",
   "pygments_lexer": "ipython3",
   "version": "3.9.12 (main, Apr  5 2022, 06:56:58) \n[GCC 7.5.0]"
  },
  "orig_nbformat": 4,
  "vscode": {
   "interpreter": {
    "hash": "c71467c1cead1faa151a2e40e8c8dc7122fa70e94f152c28cbbc4540833ad705"
   }
  }
 },
 "nbformat": 4,
 "nbformat_minor": 2
}
